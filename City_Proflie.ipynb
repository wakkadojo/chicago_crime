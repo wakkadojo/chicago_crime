{
 "cells": [
  {
   "cell_type": "markdown",
   "metadata": {},
   "source": [
    "# Chicago crime profile\n",
    "\n",
    "Here we calculate supporting data and timeseries to summarize the crime profile in the city of Chicago. Much of the visualization will be written in D3, though there will be some visualization here for investigations or validation. \n",
    "\n",
    "We profile crime in the city by looking at the \"Crime Gini\". This coefficient measures how much of the crime affects certain people over others, i.e. the crime inequality. This will also be broken out by crime type.\n",
    "\n",
    "This coefficient will be measured through time to elucidate trends in crime data, as well as put in context of how earnings distributions (a standard Gini coefficient) has changed through the years. We also will produce neighborhood stories, where parts of the city are crossed against the trends observed in the data, to see which areas have been doing well in terms of crime and income, and which have been doing poorly.\n",
    "\n",
    "Once central dataframe of interest here is one whose columns are the important attributes, such as crime type, and whose index is dimensioned on neighborhood x year. The other central dataframe here is one keyed on month, whose features are Chicago-wide values, like gini coefficients, total crime, or total population.\n",
    "\n",
    "Run time: 6 mins on i5 Gen 7 (single thread)\n",
    "RAM reqs: 2GB"
   ]
  },
  {
   "cell_type": "code",
   "execution_count": 1,
   "metadata": {
    "collapsed": true
   },
   "outputs": [],
   "source": [
    "import pandas as pd\n",
    "import geopandas as gpd\n",
    "import matplotlib.pyplot as plt\n",
    "import seaborn as sns\n",
    "import numpy as np\n",
    "import os\n",
    "\n",
    "%matplotlib inline"
   ]
  },
  {
   "cell_type": "markdown",
   "metadata": {},
   "source": [
    "## Helper functions to be migrated"
   ]
  },
  {
   "cell_type": "code",
   "execution_count": 2,
   "metadata": {
    "collapsed": true
   },
   "outputs": [],
   "source": [
    "def multi_timeseries_explore_plot(df_ts, ylabel = None, title = None, cols_per_plot = 16):\n",
    "    for i in range(len(df_ts.columns)//cols_per_plot + 1):\n",
    "        cols_offset = cols_per_plot * i\n",
    "        cols_to_plot = range(cols_offset,  min(len(df_ts.columns), cols_offset + cols_per_plot))\n",
    "        df_ts[df_ts.columns[cols_to_plot]].plot().legend(bbox_to_anchor=(1, 1.05))\n",
    "        if title:\n",
    "            plt.title(title)\n",
    "        if ylabel:\n",
    "            plt.ylabel(ylabel)\n",
    "            \n",
    "def get_lorenz_curve(values, weights):\n",
    "    \"\"\"\n",
    "    Return lorenz curve for values associated with weights population. \n",
    "    The first element of a tuple entry is the number of people associated with the point\n",
    "    The second element is the value\n",
    "    \"\"\"\n",
    "    lorenz_unnormalized = sorted(zip(weights, values), key = lambda x: x[1])\n",
    "    total_weight = sum(map(lambda row: row[0], lorenz_unnormalized))\n",
    "    total_weighted_value = sum(map(lambda row: row[0] * row[1], lorenz_unnormalized))\n",
    "    return np.cumsum([ (x[0] / total_weight, x[0] * x[1] / total_weighted_value) for x in lorenz_unnormalized ], axis = 0)\n",
    " \n",
    "def get_top_percentile_level(pct_ppl, values, weights):\n",
    "    \"\"\"\n",
    "    Return crime level for a target percentile above which crime is at least as bad as the level returned. \n",
    "    The first element of a tuple entry is the number of people associated with the point\n",
    "    The second element is the value\n",
    "    \"\"\"\n",
    "    total_weight = sum(weights)\n",
    "    sorted_pairs_outright_weights = np.array(sorted(zip(weights, values), key = lambda x: x[1]))\n",
    "    # with cumulative weights\n",
    "    sorted_pairs = np.array(sorted_pairs_outright_weights)\n",
    "    sorted_pairs[:,0] = np.cumsum(sorted_pairs[:,0], axis = 0) / total_weight\n",
    "    idx = np.searchsorted(sorted_pairs[:,0], 1 - pct_ppl)\n",
    "    x0, x1 = sorted_pairs[idx-1, 0], sorted_pairs[idx, 0]\n",
    "    y0, y1 = sorted_pairs[idx-1, 1], sorted_pairs[idx, 1]\n",
    "    m = (y1 - y0)/(x1 - x0)\n",
    "    return m * ((1-pct_ppl) - x0) + y0\n",
    "    \n",
    "def gini(values, weights):\n",
    "    \"\"\"\n",
    "    Return gini coefficient for values associated with weights population. \n",
    "    \"\"\"\n",
    "    lorenz_curve = get_lorenz_curve(values, weights)\n",
    "    # width is how far horizontally we have indexed, height is how far along the vertical axis\n",
    "    width, height, area = 0, 0, 0\n",
    "    for point in lorenz_curve:\n",
    "        area += (point[0] - width)*height + (point[0] - width)*(point[1] - height) / 2\n",
    "        height = point[1]\n",
    "        width = point[0]\n",
    "    fair_area = height * width / 2.\n",
    "    return (fair_area - area) / fair_area\n",
    "\n",
    "def pct_of_crime_in_top_pct_ppl(lorenz_curve, pct_ppl):\n",
    "    \"\"\"\n",
    "    Return percent of crime in top X percent of population (i.e. of those in most intense circumstances)\n",
    "    Calculated as 1 - lorenz curve(1 - top pct to consider)\n",
    "    Linearly interpolate between 2 closest matches\n",
    "    \"\"\"\n",
    "    idx = np.searchsorted(lorenz_curve[:,0], 1 - pct_ppl)\n",
    "    x0, x1 = lorenz_curve[idx-1, 0], lorenz_curve[idx, 0]\n",
    "    y0, y1 = lorenz_curve[idx-1, 1], lorenz_curve[idx, 1]\n",
    "    m = (y1 - y0)/(x1 - x0)\n",
    "    return 1 - (m * ((1-pct_ppl) - x0) + y0)"
   ]
  },
  {
   "cell_type": "markdown",
   "metadata": {},
   "source": [
    "## City population\n",
    "\n",
    "Here we read in the neighborhood populations through time, in addition to the Chicago totals, from a previous analysis / notebook. Note that in that analysis we used full-sampling census data (2000 and 2010) combined with select higher uncertainty but more coincident data from 2008 to present. By interpolating this data we obtained our monthly population timeseries.\n",
    "\n",
    "While the aggregate population appears relatively constant since 2008, there is variation at the neighborhood level."
   ]
  },
  {
   "cell_type": "code",
   "execution_count": 3,
   "metadata": {
    "collapsed": true
   },
   "outputs": [],
   "source": [
    "neighb_population = pd.read_csv('./data/rob_paral_combined_monthly.csv')[[\n",
    "    'neighborhood', \n",
    "    'time',\n",
    "    'Total_demographic', \n",
    "    'Not Hispanic or Latino: Asian alone',\n",
    "    'Not Hispanic or Latino: Black or African American alone',\n",
    "    'Hispanic or Latino',\n",
    "    'Not Hispanic or Latino: White alone',\n",
    "    'Not Hispanic or Latino: Other'\n",
    "]].rename(columns = {\n",
    "    'Total_demographic'                                       : 'population', \n",
    "    'Not Hispanic or Latino: Asian alone'                     : 'asian',\n",
    "    'Not Hispanic or Latino: Black or African American alone' : 'black',\n",
    "    'Hispanic or Latino'                                      : 'latino',\n",
    "    'Not Hispanic or Latino: White alone'                     : 'white',\n",
    "    'Not Hispanic or Latino: Other'                           : 'other'\n",
    "})\n",
    "\n",
    "neighb_pct_population = neighb_population.drop(['neighborhood', 'time', 'population'], axis = 1)\\\n",
    "    .div(neighb_population['population'], axis = 0)\n",
    "neighb_pct_population[['neighborhood', 'time']] = neighb_population[['neighborhood', 'time']]\n",
    "    \n",
    "neighb_population['time'] = pd.to_datetime(neighb_population['time']).dt.to_period('M')\n",
    "neighb_pct_population['time'] = pd.to_datetime(neighb_pct_population['time']).dt.to_period('M')"
   ]
  },
  {
   "cell_type": "code",
   "execution_count": 4,
   "metadata": {},
   "outputs": [
    {
     "data": {
      "text/html": [
       "<div>\n",
       "<style>\n",
       "    .dataframe thead tr:only-child th {\n",
       "        text-align: right;\n",
       "    }\n",
       "\n",
       "    .dataframe thead th {\n",
       "        text-align: left;\n",
       "    }\n",
       "\n",
       "    .dataframe tbody tr th {\n",
       "        vertical-align: top;\n",
       "    }\n",
       "</style>\n",
       "<table border=\"1\" class=\"dataframe\">\n",
       "  <thead>\n",
       "    <tr style=\"text-align: right;\">\n",
       "      <th></th>\n",
       "      <th>neighborhood</th>\n",
       "      <th>time</th>\n",
       "      <th>population</th>\n",
       "      <th>asian</th>\n",
       "      <th>black</th>\n",
       "      <th>latino</th>\n",
       "      <th>white</th>\n",
       "      <th>other</th>\n",
       "    </tr>\n",
       "  </thead>\n",
       "  <tbody>\n",
       "    <tr>\n",
       "      <th>0</th>\n",
       "      <td>ROGERS PARK</td>\n",
       "      <td>2000-06</td>\n",
       "      <td>63484.0</td>\n",
       "      <td>4063.000000</td>\n",
       "      <td>18767.000000</td>\n",
       "      <td>17639.00000</td>\n",
       "      <td>20170.000000</td>\n",
       "      <td>2845.000000</td>\n",
       "    </tr>\n",
       "    <tr>\n",
       "      <th>1</th>\n",
       "      <td>ROGERS PARK</td>\n",
       "      <td>2000-07</td>\n",
       "      <td>63393.5</td>\n",
       "      <td>4061.583333</td>\n",
       "      <td>18712.354167</td>\n",
       "      <td>17593.03125</td>\n",
       "      <td>20192.020833</td>\n",
       "      <td>2834.510417</td>\n",
       "    </tr>\n",
       "    <tr>\n",
       "      <th>2</th>\n",
       "      <td>ROGERS PARK</td>\n",
       "      <td>2000-08</td>\n",
       "      <td>63303.0</td>\n",
       "      <td>4060.166667</td>\n",
       "      <td>18657.708333</td>\n",
       "      <td>17547.06250</td>\n",
       "      <td>20214.041667</td>\n",
       "      <td>2824.020833</td>\n",
       "    </tr>\n",
       "    <tr>\n",
       "      <th>3</th>\n",
       "      <td>ROGERS PARK</td>\n",
       "      <td>2000-09</td>\n",
       "      <td>63212.5</td>\n",
       "      <td>4058.750000</td>\n",
       "      <td>18603.062500</td>\n",
       "      <td>17501.09375</td>\n",
       "      <td>20236.062500</td>\n",
       "      <td>2813.531250</td>\n",
       "    </tr>\n",
       "    <tr>\n",
       "      <th>4</th>\n",
       "      <td>ROGERS PARK</td>\n",
       "      <td>2000-10</td>\n",
       "      <td>63122.0</td>\n",
       "      <td>4057.333333</td>\n",
       "      <td>18548.416667</td>\n",
       "      <td>17455.12500</td>\n",
       "      <td>20258.083333</td>\n",
       "      <td>2803.041667</td>\n",
       "    </tr>\n",
       "  </tbody>\n",
       "</table>\n",
       "</div>"
      ],
      "text/plain": [
       "  neighborhood    time  population        asian         black       latino  \\\n",
       "0  ROGERS PARK 2000-06     63484.0  4063.000000  18767.000000  17639.00000   \n",
       "1  ROGERS PARK 2000-07     63393.5  4061.583333  18712.354167  17593.03125   \n",
       "2  ROGERS PARK 2000-08     63303.0  4060.166667  18657.708333  17547.06250   \n",
       "3  ROGERS PARK 2000-09     63212.5  4058.750000  18603.062500  17501.09375   \n",
       "4  ROGERS PARK 2000-10     63122.0  4057.333333  18548.416667  17455.12500   \n",
       "\n",
       "          white        other  \n",
       "0  20170.000000  2845.000000  \n",
       "1  20192.020833  2834.510417  \n",
       "2  20214.041667  2824.020833  \n",
       "3  20236.062500  2813.531250  \n",
       "4  20258.083333  2803.041667  "
      ]
     },
     "execution_count": 4,
     "metadata": {},
     "output_type": "execute_result"
    }
   ],
   "source": [
    "neighb_population.head()"
   ]
  },
  {
   "cell_type": "code",
   "execution_count": 5,
   "metadata": {
    "collapsed": true
   },
   "outputs": [],
   "source": [
    "city_population = neighb_population.groupby(['time']).sum().reset_index()"
   ]
  },
  {
   "cell_type": "code",
   "execution_count": 6,
   "metadata": {},
   "outputs": [
    {
     "data": {
      "image/png": "[encoded data removed]",
      "text/plain": [
       "<matplotlib.figure.Figure at 0x7f071f898400>"
      ]
     },
     "metadata": {},
     "output_type": "display_data"
    }
   ],
   "source": [
    "city_population.set_index('time')[['population']].plot()\n",
    "plt.show()"
   ]
  },
  {
   "cell_type": "code",
   "execution_count": 7,
   "metadata": {},
   "outputs": [
    {
     "data": {
      "text/html": [
       "<div>\n",
       "<style>\n",
       "    .dataframe thead tr:only-child th {\n",
       "        text-align: right;\n",
       "    }\n",
       "\n",
       "    .dataframe thead th {\n",
       "        text-align: left;\n",
       "    }\n",
       "\n",
       "    .dataframe tbody tr th {\n",
       "        vertical-align: top;\n",
       "    }\n",
       "</style>\n",
       "<table border=\"1\" class=\"dataframe\">\n",
       "  <thead>\n",
       "    <tr style=\"text-align: right;\">\n",
       "      <th></th>\n",
       "      <th>neighborhood</th>\n",
       "      <th>time</th>\n",
       "      <th>population</th>\n",
       "      <th>asian</th>\n",
       "      <th>black</th>\n",
       "      <th>latino</th>\n",
       "      <th>white</th>\n",
       "      <th>other</th>\n",
       "    </tr>\n",
       "  </thead>\n",
       "  <tbody>\n",
       "    <tr>\n",
       "      <th>0</th>\n",
       "      <td>ROGERS PARK</td>\n",
       "      <td>2000-06</td>\n",
       "      <td>63484.0</td>\n",
       "      <td>4063.000000</td>\n",
       "      <td>18767.000000</td>\n",
       "      <td>17639.00000</td>\n",
       "      <td>20170.000000</td>\n",
       "      <td>2845.000000</td>\n",
       "    </tr>\n",
       "    <tr>\n",
       "      <th>1</th>\n",
       "      <td>ROGERS PARK</td>\n",
       "      <td>2000-07</td>\n",
       "      <td>63393.5</td>\n",
       "      <td>4061.583333</td>\n",
       "      <td>18712.354167</td>\n",
       "      <td>17593.03125</td>\n",
       "      <td>20192.020833</td>\n",
       "      <td>2834.510417</td>\n",
       "    </tr>\n",
       "    <tr>\n",
       "      <th>2</th>\n",
       "      <td>ROGERS PARK</td>\n",
       "      <td>2000-08</td>\n",
       "      <td>63303.0</td>\n",
       "      <td>4060.166667</td>\n",
       "      <td>18657.708333</td>\n",
       "      <td>17547.06250</td>\n",
       "      <td>20214.041667</td>\n",
       "      <td>2824.020833</td>\n",
       "    </tr>\n",
       "    <tr>\n",
       "      <th>3</th>\n",
       "      <td>ROGERS PARK</td>\n",
       "      <td>2000-09</td>\n",
       "      <td>63212.5</td>\n",
       "      <td>4058.750000</td>\n",
       "      <td>18603.062500</td>\n",
       "      <td>17501.09375</td>\n",
       "      <td>20236.062500</td>\n",
       "      <td>2813.531250</td>\n",
       "    </tr>\n",
       "    <tr>\n",
       "      <th>4</th>\n",
       "      <td>ROGERS PARK</td>\n",
       "      <td>2000-10</td>\n",
       "      <td>63122.0</td>\n",
       "      <td>4057.333333</td>\n",
       "      <td>18548.416667</td>\n",
       "      <td>17455.12500</td>\n",
       "      <td>20258.083333</td>\n",
       "      <td>2803.041667</td>\n",
       "    </tr>\n",
       "  </tbody>\n",
       "</table>\n",
       "</div>"
      ],
      "text/plain": [
       "  neighborhood    time  population        asian         black       latino  \\\n",
       "0  ROGERS PARK 2000-06     63484.0  4063.000000  18767.000000  17639.00000   \n",
       "1  ROGERS PARK 2000-07     63393.5  4061.583333  18712.354167  17593.03125   \n",
       "2  ROGERS PARK 2000-08     63303.0  4060.166667  18657.708333  17547.06250   \n",
       "3  ROGERS PARK 2000-09     63212.5  4058.750000  18603.062500  17501.09375   \n",
       "4  ROGERS PARK 2000-10     63122.0  4057.333333  18548.416667  17455.12500   \n",
       "\n",
       "          white        other  \n",
       "0  20170.000000  2845.000000  \n",
       "1  20192.020833  2834.510417  \n",
       "2  20214.041667  2824.020833  \n",
       "3  20236.062500  2813.531250  \n",
       "4  20258.083333  2803.041667  "
      ]
     },
     "execution_count": 7,
     "metadata": {},
     "output_type": "execute_result"
    }
   ],
   "source": [
    "neighb_population.head()"
   ]
  },
  {
   "cell_type": "markdown",
   "metadata": {},
   "source": [
    "## City median income\n",
    "\n"
   ]
  },
  {
   "cell_type": "code",
   "execution_count": 8,
   "metadata": {
    "collapsed": true
   },
   "outputs": [],
   "source": [
    "rob_paral_income_raw = pd.read_csv('./data/rob_paral_combined_monthly.csv')"
   ]
  },
  {
   "cell_type": "code",
   "execution_count": 9,
   "metadata": {},
   "outputs": [
    {
     "data": {
      "text/plain": [
       "['Less than $10,000',\n",
       " '$10,000 to $14,999',\n",
       " '$15,000 to $19,999',\n",
       " '$20,000 to $24,999',\n",
       " '$25,000 to $29,999',\n",
       " '$30,000 to $34,999',\n",
       " '$35,000 to $39,999',\n",
       " '$40,000 to $44,999',\n",
       " '$45,000 to $49,999',\n",
       " '$50,000 to $59,999',\n",
       " '$60,000 to $74,999',\n",
       " '$75,000 to $99,999',\n",
       " '$100,000 to $124,999',\n",
       " '$125,000 to $149,999',\n",
       " '$150,000 to $199,999',\n",
       " '$200,000 or more']"
      ]
     },
     "execution_count": 9,
     "metadata": {},
     "output_type": "execute_result"
    }
   ],
   "source": [
    "income_cols = [ col for col in rob_paral_income_raw.columns if '$' in col ]\n",
    "income_cols"
   ]
  },
  {
   "cell_type": "code",
   "execution_count": 10,
   "metadata": {
    "collapsed": true
   },
   "outputs": [],
   "source": [
    "def get_number_from_income_name(col):\n",
    "    # just assign numbers for sake of median calc -- these will not affect median\n",
    "    if 'Less' in col and '$10,000' in col:\n",
    "        return 5000\n",
    "    elif '$200,000' in col:\n",
    "        return 250000 \n",
    "    else: # this normalization will matter for median\n",
    "        numbers = [ int(num) for num in col.replace(',', '').replace('$', '').split(' to ') ]\n",
    "        return int(np.average(numbers) + 0.5)\n",
    "        \n",
    "income_col_number_map = { col : get_number_from_income_name(col) for col in income_cols }"
   ]
  },
  {
   "cell_type": "code",
   "execution_count": 11,
   "metadata": {
    "collapsed": true
   },
   "outputs": [],
   "source": [
    "def get_median_income_snap(row, num_map, num_cols):\n",
    "    # first index of tupple is the percentile of population, second is the amount\n",
    "    \n",
    "    count_amts = sorted([ (row[col], num_map[col]) for col in num_cols ], key = lambda x: x[1])\n",
    "    total_count = np.nansum([x[0] for x in count_amts])\n",
    "    pct_amts = [ (x[0]/total_count, x[1]) for x in count_amts ]\n",
    "    \n",
    "    # find the two elements contributing to the med\n",
    "    lower_cumulative_amt = pct_amts[0]\n",
    "    upper_cumulative_amt = (pct_amts[0][0] + pct_amts[1][0], pct_amts[1][1]) # just for good practice...\n",
    "    for x in pct_amts[1:]:\n",
    "        upper_cumulative_amt = (x[0] + lower_cumulative_amt[0], x[1])\n",
    "        if upper_cumulative_amt[0] > 0.5:\n",
    "            break\n",
    "        lower_cumulative_amt = upper_cumulative_amt\n",
    "    \n",
    "    # linear interpolation of median\n",
    "    slope = (upper_cumulative_amt[1] - lower_cumulative_amt[1]) / (upper_cumulative_amt[0] - lower_cumulative_amt[0])\n",
    "    \n",
    "    return slope*(0.5 - lower_cumulative_amt[0]) + lower_cumulative_amt[1]"
   ]
  },
  {
   "cell_type": "code",
   "execution_count": 12,
   "metadata": {
    "collapsed": true
   },
   "outputs": [],
   "source": [
    "neighb_incomes = rob_paral_income_raw[['neighborhood', 'time'] + income_cols].copy()"
   ]
  },
  {
   "cell_type": "code",
   "execution_count": 13,
   "metadata": {
    "collapsed": true
   },
   "outputs": [],
   "source": [
    "neighb_incomes['median_income'] = \\\n",
    "    neighb_incomes.apply(get_median_income_snap, args = (income_col_number_map, income_cols), axis = 1)"
   ]
  },
  {
   "cell_type": "code",
   "execution_count": 14,
   "metadata": {
    "collapsed": true
   },
   "outputs": [],
   "source": [
    "neighb_incomes['time'] = pd.to_datetime(neighb_incomes['time']).dt.to_period('M')"
   ]
  },
  {
   "cell_type": "markdown",
   "metadata": {},
   "source": [
    "### City of Chicago aggregates\n",
    "\n",
    "In a separate dataframe lets calculate the city of chicago median income"
   ]
  },
  {
   "cell_type": "code",
   "execution_count": 15,
   "metadata": {
    "collapsed": true
   },
   "outputs": [],
   "source": [
    "chicago_incomes = neighb_incomes.drop(['neighborhood', 'median_income'], axis = 1).groupby('time').sum().reset_index()\n",
    "chicago_incomes['median_income'] = \\\n",
    "    chicago_incomes.apply(get_median_income_snap, args = (income_col_number_map, income_cols), axis = 1)\n",
    "chicago_incomes['neighborhood'] = 'CITY OF CHICAGO'"
   ]
  },
  {
   "cell_type": "markdown",
   "metadata": {},
   "source": [
    "## Quick look at median incomes\n",
    "\n",
    "First lets take a look at the Chicago median income, then the break-out by neighorhood"
   ]
  },
  {
   "cell_type": "code",
   "execution_count": 16,
   "metadata": {},
   "outputs": [
    {
     "data": {
      "image/png": "[encoded data removed]",
      "text/plain": [
       "<matplotlib.figure.Figure at 0x7f071f4c2ac8>"
      ]
     },
     "metadata": {},
     "output_type": "display_data"
    }
   ],
   "source": [
    "chicago_incomes.set_index('time')['median_income'].plot(title = 'Chicago median income')\n",
    "\n",
    "plt.show()"
   ]
  },
  {
   "cell_type": "code",
   "execution_count": 17,
   "metadata": {
    "scrolled": true
   },
   "outputs": [
    {
     "data": {
      "image/png": "[encoded data removed]",
      "text/plain": [
       "<matplotlib.figure.Figure at 0x7f071d2cc6a0>"
      ]
     },
     "metadata": {},
     "output_type": "display_data"
    },
    {
     "data": {
      "image/png": "[encoded data removed]",
      "text/plain": [
       "<matplotlib.figure.Figure at 0x7f071d2467b8>"
      ]
     },
     "metadata": {},
     "output_type": "display_data"
    },
    {
     "data": {
      "image/png": "[encoded data removed]",
      "text/plain": [
       "<matplotlib.figure.Figure at 0x7f071cfdf278>"
      ]
     },
     "metadata": {},
     "output_type": "display_data"
    },
    {
     "data": {
      "image/png": "[encoded data removed]",
      "text/plain": [
       "<matplotlib.figure.Figure at 0x7f071cde9cc0>"
      ]
     },
     "metadata": {},
     "output_type": "display_data"
    },
    {
     "data": {
      "image/png": "[encoded data removed]",
      "text/plain": [
       "<matplotlib.figure.Figure at 0x7f071cbf4cc0>"
      ]
     },
     "metadata": {},
     "output_type": "display_data"
    }
   ],
   "source": [
    "median_incomes_time = neighb_incomes\\\n",
    "    .reset_index()\\\n",
    "    .pivot(index = 'time', columns = 'neighborhood', values = 'median_income')\n",
    "    \n",
    "multi_timeseries_explore_plot(median_incomes_time, title = 'Neighborhood median income')\n",
    "\n",
    "plt.show()"
   ]
  },
  {
   "cell_type": "markdown",
   "metadata": {},
   "source": [
    "## Crime summaries\n",
    "\n",
    "Here we produce the timeseries of crimes and crimes per person for each crime type, and how they have changed through time. With this data in hand, we can calculate the crime Gini coefficient through time."
   ]
  },
  {
   "cell_type": "markdown",
   "metadata": {},
   "source": [
    "### Severity index\n",
    "\n",
    "Lets calculate the \"severity index\" based off of the criminal sentencing of crimes as studied in http://convictions.smartchicagoapps.org/#intro"
   ]
  },
  {
   "cell_type": "code",
   "execution_count": 18,
   "metadata": {
    "collapsed": true
   },
   "outputs": [],
   "source": [
    "# Use the mean sentence as a proxy for severity of a crime\n",
    "def min_sent_to_severity_index(mean_sent, median_sent, min_sent, max_sent):\n",
    "    return mean_sent"
   ]
  },
  {
   "cell_type": "code",
   "execution_count": 19,
   "metadata": {
    "collapsed": true
   },
   "outputs": [],
   "source": [
    "crime_severity = pd.DataFrame(\n",
    "    pd.read_csv('./data/parsed_convictions_minsent.csv').set_index('iucr')\\\n",
    "        .apply(lambda row: min_sent_to_severity_index(*row), axis = 1)\n",
    ")\n",
    "crime_severity.columns = ['severity_index']"
   ]
  },
  {
   "cell_type": "code",
   "execution_count": 20,
   "metadata": {},
   "outputs": [
    {
     "data": {
      "text/html": [
       "<div>\n",
       "<style>\n",
       "    .dataframe thead tr:only-child th {\n",
       "        text-align: right;\n",
       "    }\n",
       "\n",
       "    .dataframe thead th {\n",
       "        text-align: left;\n",
       "    }\n",
       "\n",
       "    .dataframe tbody tr th {\n",
       "        vertical-align: top;\n",
       "    }\n",
       "</style>\n",
       "<table border=\"1\" class=\"dataframe\">\n",
       "  <thead>\n",
       "    <tr style=\"text-align: right;\">\n",
       "      <th></th>\n",
       "      <th>severity_index</th>\n",
       "    </tr>\n",
       "    <tr>\n",
       "      <th>iucr</th>\n",
       "      <th></th>\n",
       "    </tr>\n",
       "  </thead>\n",
       "  <tbody>\n",
       "    <tr>\n",
       "      <th>0110</th>\n",
       "      <td>26.341289</td>\n",
       "    </tr>\n",
       "    <tr>\n",
       "      <th>0115</th>\n",
       "      <td>23.722222</td>\n",
       "    </tr>\n",
       "    <tr>\n",
       "      <th>0130</th>\n",
       "      <td>9.500000</td>\n",
       "    </tr>\n",
       "    <tr>\n",
       "      <th>0141</th>\n",
       "      <td>3.738734</td>\n",
       "    </tr>\n",
       "    <tr>\n",
       "      <th>0142</th>\n",
       "      <td>3.738734</td>\n",
       "    </tr>\n",
       "  </tbody>\n",
       "</table>\n",
       "</div>"
      ],
      "text/plain": [
       "      severity_index\n",
       "iucr                \n",
       "0110       26.341289\n",
       "0115       23.722222\n",
       "0130        9.500000\n",
       "0141        3.738734\n",
       "0142        3.738734"
      ]
     },
     "execution_count": 20,
     "metadata": {},
     "output_type": "execute_result"
    }
   ],
   "source": [
    "crime_severity.head()"
   ]
  },
  {
   "cell_type": "code",
   "execution_count": 21,
   "metadata": {
    "collapsed": true
   },
   "outputs": [],
   "source": [
    "crime_severity_dict = crime_severity.to_dict()['severity_index']\n",
    "crime_severity_dict = { str(key).zfill(4) : crime_severity_dict[key] for key in crime_severity_dict }\n",
    "\n",
    "# See below investigation why apply avg to 0460 and 0486\n",
    "# Note that in the native data 0486 doesn't exist and instead 0486 is mapped to 0480 -- we don't want this\n",
    "crime_severity_dict['0486'] = crime_severity_dict['0460']"
   ]
  },
  {
   "cell_type": "code",
   "execution_count": 22,
   "metadata": {},
   "outputs": [
    {
     "data": {
      "text/plain": [
       "0.0"
      ]
     },
     "execution_count": 22,
     "metadata": {},
     "output_type": "execute_result"
    }
   ],
   "source": [
    "crime_severity['severity_index'].min()"
   ]
  },
  {
   "cell_type": "code",
   "execution_count": 23,
   "metadata": {
    "collapsed": true
   },
   "outputs": [],
   "source": [
    "def get_severity(iucr, severity_dict):\n",
    "    iucr_for_join = str(iucr).zfill(4)\n",
    "    first_try = iucr_for_join\n",
    "    second_try = iucr_for_join[:3] + '0'\n",
    "    third_try = iucr_for_join[:2] + 'XX'\n",
    "    if first_try in severity_dict:\n",
    "        return severity_dict[first_try]\n",
    "    elif second_try in severity_dict:\n",
    "        return severity_dict[second_try]\n",
    "    elif third_try in severity_dict:\n",
    "        return severity_dict[third_try]\n",
    "    else:\n",
    "        return np.nan"
   ]
  },
  {
   "cell_type": "code",
   "execution_count": 24,
   "metadata": {
    "collapsed": true
   },
   "outputs": [],
   "source": [
    "individual_crimes = pd.read_csv('./data/cleaned_crimes.csv')"
   ]
  },
  {
   "cell_type": "code",
   "execution_count": 25,
   "metadata": {
    "collapsed": true
   },
   "outputs": [],
   "source": [
    "individual_crimes['time'] = pd.to_datetime(individual_crimes['date'], format = '%m/%d/%Y %I:%M:%S %p')\\\n",
    "    .dt.to_period('M')"
   ]
  },
  {
   "cell_type": "code",
   "execution_count": 26,
   "metadata": {
    "collapsed": true
   },
   "outputs": [],
   "source": [
    "individual_crimes['severity'] = individual_crimes['iucr'].map(lambda iucr: get_severity(iucr, crime_severity_dict))"
   ]
  },
  {
   "cell_type": "markdown",
   "metadata": {},
   "source": [
    "### How does the severity compare to the incarceration rate?\n",
    "\n",
    "Lets take a quick look at the total \"time served\" assuming an arrest leads to a conviction with the average \"severity\" (note severity here is mean yrs served). We'll use the endpoint population as a proxy for total population of the city (since this is a by-and-large / back of the envelope look). This is coming out to roughly 3-6% of the total population serving per year. This is very high compared to the ~0.5% of the population actually in prison.\n",
    "\n",
    "Upon further investigation, it looks like the index crime rates largely coincide with other sources -- here we report non-index crimes as well. \n",
    "\n",
    "Due to other triangulation and accounting for other for factors below, the calculations here triangulate well. The severity index is the total years served per person (on average) assuming every person is arrested and serves full sentence for their crime (loosely). The apparent discrepancy above is loosely explained, and the actual crime rates as calculated triangulate with external sources (which tend to only report index crime rates; here we have both)\n",
    "\n",
    "Differences in the total incarceration rate are likely due to (in product, on the order of 10% filter through to the state incarceration rate!)\n",
    "1. Arrest rates (varies by crime, but ~0.3)\n",
    "2. Fraction of prison sentence served (~0.75)\n",
    "3. Fraction of people convicted for crime they were arrested for (~0.75)\n",
    "4. Distribution of prisons -- between state, city, and federal (~0.5)\n",
    "5. Same individual committing many crimes (??)"
   ]
  },
  {
   "cell_type": "code",
   "execution_count": 27,
   "metadata": {},
   "outputs": [
    {
     "data": {
      "text/plain": [
       "0.28141212132828869"
      ]
     },
     "execution_count": 27,
     "metadata": {},
     "output_type": "execute_result"
    }
   ],
   "source": [
    "# a look at arrest rates\n",
    "individual_crimes['arrest'].sum()/len(individual_crimes)"
   ]
  },
  {
   "cell_type": "code",
   "execution_count": 28,
   "metadata": {},
   "outputs": [
    {
     "data": {
      "text/html": [
       "<div>\n",
       "<style>\n",
       "    .dataframe thead tr:only-child th {\n",
       "        text-align: right;\n",
       "    }\n",
       "\n",
       "    .dataframe thead th {\n",
       "        text-align: left;\n",
       "    }\n",
       "\n",
       "    .dataframe tbody tr th {\n",
       "        vertical-align: top;\n",
       "    }\n",
       "</style>\n",
       "<table border=\"1\" class=\"dataframe\">\n",
       "  <thead>\n",
       "    <tr>\n",
       "      <th></th>\n",
       "      <th colspan=\"2\" halign=\"left\">severity</th>\n",
       "    </tr>\n",
       "    <tr>\n",
       "      <th></th>\n",
       "      <th>mean</th>\n",
       "      <th>count</th>\n",
       "    </tr>\n",
       "    <tr>\n",
       "      <th>crime_is_index</th>\n",
       "      <th></th>\n",
       "      <th></th>\n",
       "    </tr>\n",
       "  </thead>\n",
       "  <tbody>\n",
       "    <tr>\n",
       "      <th>False</th>\n",
       "      <td>0.843239</td>\n",
       "      <td>146274</td>\n",
       "    </tr>\n",
       "    <tr>\n",
       "      <th>True</th>\n",
       "      <td>2.144743</td>\n",
       "      <td>115784</td>\n",
       "    </tr>\n",
       "  </tbody>\n",
       "</table>\n",
       "</div>"
      ],
      "text/plain": [
       "                severity        \n",
       "                    mean   count\n",
       "crime_is_index                  \n",
       "False           0.843239  146274\n",
       "True            2.144743  115784"
      ]
     },
     "execution_count": 28,
     "metadata": {},
     "output_type": "execute_result"
    }
   ],
   "source": [
    "# a look at index vs non-index crimes in 2016\n",
    "individual_crimes[individual_crimes['year']==2016].groupby('crime_is_index')[['severity']].agg(['mean', 'count'])"
   ]
  },
  {
   "cell_type": "code",
   "execution_count": 29,
   "metadata": {},
   "outputs": [
    {
     "data": {
      "text/html": [
       "<div>\n",
       "<style>\n",
       "    .dataframe thead tr:only-child th {\n",
       "        text-align: right;\n",
       "    }\n",
       "\n",
       "    .dataframe thead th {\n",
       "        text-align: left;\n",
       "    }\n",
       "\n",
       "    .dataframe tbody tr th {\n",
       "        vertical-align: top;\n",
       "    }\n",
       "</style>\n",
       "<table border=\"1\" class=\"dataframe\">\n",
       "  <thead>\n",
       "    <tr>\n",
       "      <th>crime_type</th>\n",
       "      <th colspan=\"5\" halign=\"left\">Property</th>\n",
       "      <th colspan=\"4\" halign=\"left\">Violent</th>\n",
       "    </tr>\n",
       "    <tr>\n",
       "      <th>crime_description</th>\n",
       "      <th>Arson</th>\n",
       "      <th>Burglary</th>\n",
       "      <th>Larceny</th>\n",
       "      <th>Motor Vehicle Theft</th>\n",
       "      <th>Robbery</th>\n",
       "      <th>Aggravated Assault</th>\n",
       "      <th>Aggravated Battery</th>\n",
       "      <th>Criminal Sexual Assault</th>\n",
       "      <th>Homicide 1st &amp; 2nd Degree</th>\n",
       "    </tr>\n",
       "    <tr>\n",
       "      <th>year</th>\n",
       "      <th></th>\n",
       "      <th></th>\n",
       "      <th></th>\n",
       "      <th></th>\n",
       "      <th></th>\n",
       "      <th></th>\n",
       "      <th></th>\n",
       "      <th></th>\n",
       "      <th></th>\n",
       "    </tr>\n",
       "  </thead>\n",
       "  <tbody>\n",
       "    <tr>\n",
       "      <th>2001</th>\n",
       "      <td>37.180090</td>\n",
       "      <td>963.016179</td>\n",
       "      <td>3671.756093</td>\n",
       "      <td>1018.786314</td>\n",
       "      <td>682.165777</td>\n",
       "      <td>291.404511</td>\n",
       "      <td>606.694638</td>\n",
       "      <td>79.581687</td>\n",
       "      <td>24.700319</td>\n",
       "    </tr>\n",
       "    <tr>\n",
       "      <th>2002</th>\n",
       "      <td>37.735570</td>\n",
       "      <td>948.018235</td>\n",
       "      <td>3627.910249</td>\n",
       "      <td>925.650929</td>\n",
       "      <td>683.572992</td>\n",
       "      <td>285.368301</td>\n",
       "      <td>561.737836</td>\n",
       "      <td>80.840774</td>\n",
       "      <td>24.292967</td>\n",
       "    </tr>\n",
       "    <tr>\n",
       "      <th>2003</th>\n",
       "      <td>35.180364</td>\n",
       "      <td>930.946500</td>\n",
       "      <td>3657.128468</td>\n",
       "      <td>841.810567</td>\n",
       "      <td>641.541715</td>\n",
       "      <td>272.962594</td>\n",
       "      <td>461.899666</td>\n",
       "      <td>72.693742</td>\n",
       "      <td>22.256209</td>\n",
       "    </tr>\n",
       "    <tr>\n",
       "      <th>2004</th>\n",
       "      <td>28.588675</td>\n",
       "      <td>909.579058</td>\n",
       "      <td>3532.997330</td>\n",
       "      <td>844.217644</td>\n",
       "      <td>591.622629</td>\n",
       "      <td>271.333188</td>\n",
       "      <td>426.904461</td>\n",
       "      <td>70.619952</td>\n",
       "      <td>16.775479</td>\n",
       "    </tr>\n",
       "    <tr>\n",
       "      <th>2005</th>\n",
       "      <td>25.366894</td>\n",
       "      <td>944.352070</td>\n",
       "      <td>3169.639716</td>\n",
       "      <td>832.848832</td>\n",
       "      <td>594.140803</td>\n",
       "      <td>250.039809</td>\n",
       "      <td>419.572133</td>\n",
       "      <td>69.064610</td>\n",
       "      <td>16.701415</td>\n",
       "    </tr>\n",
       "    <tr>\n",
       "      <th>2006</th>\n",
       "      <td>26.329725</td>\n",
       "      <td>900.728419</td>\n",
       "      <td>3191.673734</td>\n",
       "      <td>807.926321</td>\n",
       "      <td>591.289342</td>\n",
       "      <td>244.299855</td>\n",
       "      <td>407.610809</td>\n",
       "      <td>65.028126</td>\n",
       "      <td>17.442054</td>\n",
       "    </tr>\n",
       "    <tr>\n",
       "      <th>2007</th>\n",
       "      <td>25.959406</td>\n",
       "      <td>920.503487</td>\n",
       "      <td>3152.456886</td>\n",
       "      <td>687.794636</td>\n",
       "      <td>572.106785</td>\n",
       "      <td>234.597481</td>\n",
       "      <td>413.054507</td>\n",
       "      <td>67.694427</td>\n",
       "      <td>16.590319</td>\n",
       "    </tr>\n",
       "    <tr>\n",
       "      <th>2008</th>\n",
       "      <td>23.330136</td>\n",
       "      <td>970.385540</td>\n",
       "      <td>3268.848343</td>\n",
       "      <td>698.459841</td>\n",
       "      <td>618.211578</td>\n",
       "      <td>231.449764</td>\n",
       "      <td>399.982225</td>\n",
       "      <td>63.732007</td>\n",
       "      <td>18.997397</td>\n",
       "    </tr>\n",
       "    <tr>\n",
       "      <th>2009</th>\n",
       "      <td>22.478401</td>\n",
       "      <td>990.938279</td>\n",
       "      <td>2994.885886</td>\n",
       "      <td>572.921489</td>\n",
       "      <td>591.548566</td>\n",
       "      <td>222.117710</td>\n",
       "      <td>375.578162</td>\n",
       "      <td>59.399268</td>\n",
       "      <td>17.034703</td>\n",
       "    </tr>\n",
       "    <tr>\n",
       "      <th>2010</th>\n",
       "      <td>18.960365</td>\n",
       "      <td>978.458508</td>\n",
       "      <td>2842.166074</td>\n",
       "      <td>704.644178</td>\n",
       "      <td>528.557198</td>\n",
       "      <td>195.417665</td>\n",
       "      <td>349.285468</td>\n",
       "      <td>56.695934</td>\n",
       "      <td>16.219999</td>\n",
       "    </tr>\n",
       "    <tr>\n",
       "      <th>2011</th>\n",
       "      <td>18.441917</td>\n",
       "      <td>985.753804</td>\n",
       "      <td>2782.692742</td>\n",
       "      <td>717.901621</td>\n",
       "      <td>517.743865</td>\n",
       "      <td>190.973830</td>\n",
       "      <td>311.179579</td>\n",
       "      <td>60.176939</td>\n",
       "      <td>16.145936</td>\n",
       "    </tr>\n",
       "    <tr>\n",
       "      <th>2012</th>\n",
       "      <td>17.256894</td>\n",
       "      <td>845.958146</td>\n",
       "      <td>2794.283746</td>\n",
       "      <td>610.731122</td>\n",
       "      <td>499.376011</td>\n",
       "      <td>180.456752</td>\n",
       "      <td>296.588986</td>\n",
       "      <td>57.473605</td>\n",
       "      <td>18.664109</td>\n",
       "    </tr>\n",
       "    <tr>\n",
       "      <th>2013</th>\n",
       "      <td>13.257442</td>\n",
       "      <td>662.649933</td>\n",
       "      <td>2648.674071</td>\n",
       "      <td>465.899118</td>\n",
       "      <td>437.717794</td>\n",
       "      <td>158.052415</td>\n",
       "      <td>245.595974</td>\n",
       "      <td>51.511460</td>\n",
       "      <td>15.590456</td>\n",
       "    </tr>\n",
       "    <tr>\n",
       "      <th>2014</th>\n",
       "      <td>14.627625</td>\n",
       "      <td>539.555691</td>\n",
       "      <td>2279.132119</td>\n",
       "      <td>367.097842</td>\n",
       "      <td>362.913230</td>\n",
       "      <td>160.570588</td>\n",
       "      <td>243.559216</td>\n",
       "      <td>53.548217</td>\n",
       "      <td>15.664520</td>\n",
       "    </tr>\n",
       "    <tr>\n",
       "      <th>2015</th>\n",
       "      <td>16.590319</td>\n",
       "      <td>488.155327</td>\n",
       "      <td>2122.449886</td>\n",
       "      <td>372.985924</td>\n",
       "      <td>356.951084</td>\n",
       "      <td>165.866159</td>\n",
       "      <td>260.001407</td>\n",
       "      <td>55.733103</td>\n",
       "      <td>18.256757</td>\n",
       "    </tr>\n",
       "    <tr>\n",
       "      <th>2016</th>\n",
       "      <td>19.071461</td>\n",
       "      <td>529.112677</td>\n",
       "      <td>2278.576639</td>\n",
       "      <td>418.646334</td>\n",
       "      <td>442.828205</td>\n",
       "      <td>211.489537</td>\n",
       "      <td>299.477479</td>\n",
       "      <td>59.695523</td>\n",
       "      <td>28.810867</td>\n",
       "    </tr>\n",
       "    <tr>\n",
       "      <th>2017</th>\n",
       "      <td>11.183653</td>\n",
       "      <td>314.327296</td>\n",
       "      <td>1523.457897</td>\n",
       "      <td>273.851361</td>\n",
       "      <td>274.221681</td>\n",
       "      <td>142.054607</td>\n",
       "      <td>195.010313</td>\n",
       "      <td>40.883286</td>\n",
       "      <td>17.145799</td>\n",
       "    </tr>\n",
       "  </tbody>\n",
       "</table>\n",
       "</div>"
      ],
      "text/plain": [
       "crime_type          Property                                               \\\n",
       "crime_description      Arson    Burglary      Larceny Motor Vehicle Theft   \n",
       "year                                                                        \n",
       "2001               37.180090  963.016179  3671.756093         1018.786314   \n",
       "2002               37.735570  948.018235  3627.910249          925.650929   \n",
       "2003               35.180364  930.946500  3657.128468          841.810567   \n",
       "2004               28.588675  909.579058  3532.997330          844.217644   \n",
       "2005               25.366894  944.352070  3169.639716          832.848832   \n",
       "2006               26.329725  900.728419  3191.673734          807.926321   \n",
       "2007               25.959406  920.503487  3152.456886          687.794636   \n",
       "2008               23.330136  970.385540  3268.848343          698.459841   \n",
       "2009               22.478401  990.938279  2994.885886          572.921489   \n",
       "2010               18.960365  978.458508  2842.166074          704.644178   \n",
       "2011               18.441917  985.753804  2782.692742          717.901621   \n",
       "2012               17.256894  845.958146  2794.283746          610.731122   \n",
       "2013               13.257442  662.649933  2648.674071          465.899118   \n",
       "2014               14.627625  539.555691  2279.132119          367.097842   \n",
       "2015               16.590319  488.155327  2122.449886          372.985924   \n",
       "2016               19.071461  529.112677  2278.576639          418.646334   \n",
       "2017               11.183653  314.327296  1523.457897          273.851361   \n",
       "\n",
       "crime_type                               Violent                     \\\n",
       "crime_description     Robbery Aggravated Assault Aggravated Battery   \n",
       "year                                                                  \n",
       "2001               682.165777         291.404511         606.694638   \n",
       "2002               683.572992         285.368301         561.737836   \n",
       "2003               641.541715         272.962594         461.899666   \n",
       "2004               591.622629         271.333188         426.904461   \n",
       "2005               594.140803         250.039809         419.572133   \n",
       "2006               591.289342         244.299855         407.610809   \n",
       "2007               572.106785         234.597481         413.054507   \n",
       "2008               618.211578         231.449764         399.982225   \n",
       "2009               591.548566         222.117710         375.578162   \n",
       "2010               528.557198         195.417665         349.285468   \n",
       "2011               517.743865         190.973830         311.179579   \n",
       "2012               499.376011         180.456752         296.588986   \n",
       "2013               437.717794         158.052415         245.595974   \n",
       "2014               362.913230         160.570588         243.559216   \n",
       "2015               356.951084         165.866159         260.001407   \n",
       "2016               442.828205         211.489537         299.477479   \n",
       "2017               274.221681         142.054607         195.010313   \n",
       "\n",
       "crime_type                                                           \n",
       "crime_description Criminal Sexual Assault Homicide 1st & 2nd Degree  \n",
       "year                                                                 \n",
       "2001                            79.581687                 24.700319  \n",
       "2002                            80.840774                 24.292967  \n",
       "2003                            72.693742                 22.256209  \n",
       "2004                            70.619952                 16.775479  \n",
       "2005                            69.064610                 16.701415  \n",
       "2006                            65.028126                 17.442054  \n",
       "2007                            67.694427                 16.590319  \n",
       "2008                            63.732007                 18.997397  \n",
       "2009                            59.399268                 17.034703  \n",
       "2010                            56.695934                 16.219999  \n",
       "2011                            60.176939                 16.145936  \n",
       "2012                            57.473605                 18.664109  \n",
       "2013                            51.511460                 15.590456  \n",
       "2014                            53.548217                 15.664520  \n",
       "2015                            55.733103                 18.256757  \n",
       "2016                            59.695523                 28.810867  \n",
       "2017                            40.883286                 17.145799  "
      ]
     },
     "execution_count": 29,
     "metadata": {},
     "output_type": "execute_result"
    }
   ],
   "source": [
    "# index crime rates largely coincide with other sources\n",
    "# https://en.wikipedia.org/wiki/Crime_in_Chicago\n",
    "# --> note slight differences since we're using FBI classifications here\n",
    "individual_crimes[individual_crimes['crime_is_index']]\\\n",
    "    .groupby(['year', 'crime_type', 'crime_description'])\\\n",
    "    .count()[['arrest']]\\\n",
    "    .reset_index()\\\n",
    "    .pivot_table(index = 'year', columns = ['crime_type', 'crime_description'], values = 'arrest') \\\n",
    "    / (city_population['population'].values[-1] / 100000)"
   ]
  },
  {
   "cell_type": "code",
   "execution_count": 30,
   "metadata": {},
   "outputs": [
    {
     "data": {
      "text/html": [
       "<div>\n",
       "<style>\n",
       "    .dataframe thead tr:only-child th {\n",
       "        text-align: right;\n",
       "    }\n",
       "\n",
       "    .dataframe thead th {\n",
       "        text-align: left;\n",
       "    }\n",
       "\n",
       "    .dataframe tbody tr th {\n",
       "        vertical-align: top;\n",
       "    }\n",
       "</style>\n",
       "<table border=\"1\" class=\"dataframe\">\n",
       "  <thead>\n",
       "    <tr>\n",
       "      <th></th>\n",
       "      <th colspan=\"3\" halign=\"left\">severity</th>\n",
       "    </tr>\n",
       "    <tr>\n",
       "      <th></th>\n",
       "      <th>sum</th>\n",
       "      <th>count</th>\n",
       "      <th>mean</th>\n",
       "    </tr>\n",
       "    <tr>\n",
       "      <th>year</th>\n",
       "      <th></th>\n",
       "      <th></th>\n",
       "      <th></th>\n",
       "    </tr>\n",
       "  </thead>\n",
       "  <tbody>\n",
       "    <tr>\n",
       "      <th>2001</th>\n",
       "      <td>0.057312</td>\n",
       "      <td>0.050393</td>\n",
       "      <td>4.211671e-07</td>\n",
       "    </tr>\n",
       "    <tr>\n",
       "      <th>2002</th>\n",
       "      <td>0.058636</td>\n",
       "      <td>0.050208</td>\n",
       "      <td>4.324838e-07</td>\n",
       "    </tr>\n",
       "    <tr>\n",
       "      <th>2003</th>\n",
       "      <td>0.058568</td>\n",
       "      <td>0.050359</td>\n",
       "      <td>4.306870e-07</td>\n",
       "    </tr>\n",
       "    <tr>\n",
       "      <th>2004</th>\n",
       "      <td>0.059388</td>\n",
       "      <td>0.051806</td>\n",
       "      <td>4.245164e-07</td>\n",
       "    </tr>\n",
       "    <tr>\n",
       "      <th>2005</th>\n",
       "      <td>0.057195</td>\n",
       "      <td>0.050598</td>\n",
       "      <td>4.186088e-07</td>\n",
       "    </tr>\n",
       "    <tr>\n",
       "      <th>2006</th>\n",
       "      <td>0.055533</td>\n",
       "      <td>0.048764</td>\n",
       "      <td>4.217194e-07</td>\n",
       "    </tr>\n",
       "    <tr>\n",
       "      <th>2007</th>\n",
       "      <td>0.052136</td>\n",
       "      <td>0.047380</td>\n",
       "      <td>4.074931e-07</td>\n",
       "    </tr>\n",
       "    <tr>\n",
       "      <th>2008</th>\n",
       "      <td>0.045807</td>\n",
       "      <td>0.039561</td>\n",
       "      <td>4.287820e-07</td>\n",
       "    </tr>\n",
       "    <tr>\n",
       "      <th>2009</th>\n",
       "      <td>0.044399</td>\n",
       "      <td>0.039654</td>\n",
       "      <td>4.146360e-07</td>\n",
       "    </tr>\n",
       "    <tr>\n",
       "      <th>2010</th>\n",
       "      <td>0.039472</td>\n",
       "      <td>0.036115</td>\n",
       "      <td>4.047460e-07</td>\n",
       "    </tr>\n",
       "    <tr>\n",
       "      <th>2011</th>\n",
       "      <td>0.037809</td>\n",
       "      <td>0.034629</td>\n",
       "      <td>4.043345e-07</td>\n",
       "    </tr>\n",
       "    <tr>\n",
       "      <th>2012</th>\n",
       "      <td>0.036567</td>\n",
       "      <td>0.032702</td>\n",
       "      <td>4.140869e-07</td>\n",
       "    </tr>\n",
       "    <tr>\n",
       "      <th>2013</th>\n",
       "      <td>0.034260</td>\n",
       "      <td>0.030952</td>\n",
       "      <td>4.099064e-07</td>\n",
       "    </tr>\n",
       "    <tr>\n",
       "      <th>2014</th>\n",
       "      <td>0.031655</td>\n",
       "      <td>0.028020</td>\n",
       "      <td>4.183547e-07</td>\n",
       "    </tr>\n",
       "    <tr>\n",
       "      <th>2015</th>\n",
       "      <td>0.028608</td>\n",
       "      <td>0.024272</td>\n",
       "      <td>4.364715e-07</td>\n",
       "    </tr>\n",
       "    <tr>\n",
       "      <th>2016</th>\n",
       "      <td>0.024739</td>\n",
       "      <td>0.018342</td>\n",
       "      <td>4.994614e-07</td>\n",
       "    </tr>\n",
       "    <tr>\n",
       "      <th>2017</th>\n",
       "      <td>0.015372</td>\n",
       "      <td>0.011578</td>\n",
       "      <td>4.916541e-07</td>\n",
       "    </tr>\n",
       "  </tbody>\n",
       "</table>\n",
       "</div>"
      ],
      "text/plain": [
       "      severity                        \n",
       "           sum     count          mean\n",
       "year                                  \n",
       "2001  0.057312  0.050393  4.211671e-07\n",
       "2002  0.058636  0.050208  4.324838e-07\n",
       "2003  0.058568  0.050359  4.306870e-07\n",
       "2004  0.059388  0.051806  4.245164e-07\n",
       "2005  0.057195  0.050598  4.186088e-07\n",
       "2006  0.055533  0.048764  4.217194e-07\n",
       "2007  0.052136  0.047380  4.074931e-07\n",
       "2008  0.045807  0.039561  4.287820e-07\n",
       "2009  0.044399  0.039654  4.146360e-07\n",
       "2010  0.039472  0.036115  4.047460e-07\n",
       "2011  0.037809  0.034629  4.043345e-07\n",
       "2012  0.036567  0.032702  4.140869e-07\n",
       "2013  0.034260  0.030952  4.099064e-07\n",
       "2014  0.031655  0.028020  4.183547e-07\n",
       "2015  0.028608  0.024272  4.364715e-07\n",
       "2016  0.024739  0.018342  4.994614e-07\n",
       "2017  0.015372  0.011578  4.916541e-07"
      ]
     },
     "execution_count": 30,
     "metadata": {},
     "output_type": "execute_result"
    }
   ],
   "source": [
    "# severity over time -- \n",
    "individual_crimes[individual_crimes['arrest']].groupby('year')[['severity']].agg(['sum', 'count', 'mean']) /\\\n",
    "    city_population['population'].values[-1]"
   ]
  },
  {
   "cell_type": "markdown",
   "metadata": {},
   "source": [
    "### FYI: What is that Jump in 2003 and why treat 0460 and 0486 the same?\n",
    "\n",
    "Upon a closer look, it appears there's a big spike in Simple Battery in 2003. This is likely due to reporting crimes differently. Drilling deeper, the rise in IUCR 0486 (Simple domestic battery) is the driver here. It appears that in 2002, there became a distinction between _battery_ (IUCR 0460) and _domestic battery_ (0486), the former having a lower median sentence than the latter.\n",
    "\n",
    "Note that due to the 1 year rolling sums to avoid seasonality, this is likely due to a change in reporting in 2002, which is only fully incorporated by EOY 2002."
   ]
  },
  {
   "cell_type": "code",
   "execution_count": 31,
   "metadata": {
    "collapsed": true
   },
   "outputs": [],
   "source": [
    "battery_iucr = individual_crimes[individual_crimes['crime_description'] == 'Simple Battery']\\\n",
    "    .groupby(['year', 'iucr'])[['date']]\\\n",
    "    .count()\\\n",
    "    .rename(columns = {'date' : 'crime_count'})"
   ]
  },
  {
   "cell_type": "code",
   "execution_count": 32,
   "metadata": {},
   "outputs": [
    {
     "data": {
      "image/png": "[encoded data removed]",
      "text/plain": [
       "<matplotlib.figure.Figure at 0x7f071c26c780>"
      ]
     },
     "metadata": {},
     "output_type": "display_data"
    }
   ],
   "source": [
    "battery_iucr.reset_index().pivot(index = 'year', columns = 'iucr', values = 'crime_count').plot()\n",
    "\n",
    "plt.show()"
   ]
  },
  {
   "cell_type": "markdown",
   "metadata": {},
   "source": [
    "#### Filling in crimes that didn't get tagged with severity\n",
    "\n",
    "It looks like almost entirely the crimes not tagged were miscellanous small offenses. Essentially irrelevant crimes, when considering things like battery, larceny, murder, etc.\n",
    "\n",
    "There are a couple categories that don't seem to be getting tagged that are important -- but note that this is less than 1 in 2000 of overall crimes and should not impact our results significantly.\n",
    "\n",
    "To handle these, we will apply the mean sentencing from their FBI code crime category."
   ]
  },
  {
   "cell_type": "code",
   "execution_count": 33,
   "metadata": {},
   "outputs": [
    {
     "data": {
      "text/html": [
       "<div>\n",
       "<style>\n",
       "    .dataframe thead tr:only-child th {\n",
       "        text-align: right;\n",
       "    }\n",
       "\n",
       "    .dataframe thead th {\n",
       "        text-align: left;\n",
       "    }\n",
       "\n",
       "    .dataframe tbody tr th {\n",
       "        vertical-align: top;\n",
       "    }\n",
       "</style>\n",
       "<table border=\"1\" class=\"dataframe\">\n",
       "  <thead>\n",
       "    <tr style=\"text-align: right;\">\n",
       "      <th></th>\n",
       "      <th>crime_count</th>\n",
       "      <th>arrests_count</th>\n",
       "    </tr>\n",
       "    <tr>\n",
       "      <th>crime_description</th>\n",
       "      <th></th>\n",
       "      <th></th>\n",
       "    </tr>\n",
       "  </thead>\n",
       "  <tbody>\n",
       "    <tr>\n",
       "      <th>Criminal Sexual Abuse</th>\n",
       "      <td>819</td>\n",
       "      <td>134.0</td>\n",
       "    </tr>\n",
       "    <tr>\n",
       "      <th>Disorderly Conduct</th>\n",
       "      <td>26</td>\n",
       "      <td>14.0</td>\n",
       "    </tr>\n",
       "    <tr>\n",
       "      <th>Liquor License</th>\n",
       "      <td>13746</td>\n",
       "      <td>13622.0</td>\n",
       "    </tr>\n",
       "    <tr>\n",
       "      <th>Misc Non-Index Offense</th>\n",
       "      <td>111047</td>\n",
       "      <td>47670.0</td>\n",
       "    </tr>\n",
       "    <tr>\n",
       "      <th>Simple Battery</th>\n",
       "      <td>1</td>\n",
       "      <td>1.0</td>\n",
       "    </tr>\n",
       "    <tr>\n",
       "      <th>Weapons Violation</th>\n",
       "      <td>2361</td>\n",
       "      <td>1764.0</td>\n",
       "    </tr>\n",
       "  </tbody>\n",
       "</table>\n",
       "</div>"
      ],
      "text/plain": [
       "                        crime_count  arrests_count\n",
       "crime_description                                 \n",
       "Criminal Sexual Abuse           819          134.0\n",
       "Disorderly Conduct               26           14.0\n",
       "Liquor License                13746        13622.0\n",
       "Misc Non-Index Offense       111047        47670.0\n",
       "Simple Battery                    1            1.0\n",
       "Weapons Violation              2361         1764.0"
      ]
     },
     "execution_count": 33,
     "metadata": {},
     "output_type": "execute_result"
    }
   ],
   "source": [
    "individual_crimes[individual_crimes['severity'].isnull()].groupby('crime_description')\\\n",
    "    .agg(['count', 'sum'])['arrest']\\\n",
    "    .rename(columns = {'count' : 'crime_count', 'sum' : 'arrests_count'})"
   ]
  },
  {
   "cell_type": "code",
   "execution_count": 34,
   "metadata": {
    "collapsed": true
   },
   "outputs": [],
   "source": [
    "mean_crime_severity_by_descr = individual_crimes\\\n",
    "    .groupby('crime_description')\\\n",
    "    .mean()[['severity']]\\\n",
    "    .rename(columns = {'severity' : 'mean_severity'})\\\n",
    "    .reset_index()"
   ]
  },
  {
   "cell_type": "code",
   "execution_count": 35,
   "metadata": {},
   "outputs": [
    {
     "data": {
      "text/html": [
       "<div>\n",
       "<style>\n",
       "    .dataframe thead tr:only-child th {\n",
       "        text-align: right;\n",
       "    }\n",
       "\n",
       "    .dataframe thead th {\n",
       "        text-align: left;\n",
       "    }\n",
       "\n",
       "    .dataframe tbody tr th {\n",
       "        vertical-align: top;\n",
       "    }\n",
       "</style>\n",
       "<table border=\"1\" class=\"dataframe\">\n",
       "  <thead>\n",
       "    <tr style=\"text-align: right;\">\n",
       "      <th></th>\n",
       "      <th>crime_description</th>\n",
       "      <th>mean_severity</th>\n",
       "    </tr>\n",
       "  </thead>\n",
       "  <tbody>\n",
       "    <tr>\n",
       "      <th>0</th>\n",
       "      <td>Aggravated Assault</td>\n",
       "      <td>2.303894</td>\n",
       "    </tr>\n",
       "    <tr>\n",
       "      <th>1</th>\n",
       "      <td>Aggravated Battery</td>\n",
       "      <td>2.561333</td>\n",
       "    </tr>\n",
       "    <tr>\n",
       "      <th>2</th>\n",
       "      <td>Arson</td>\n",
       "      <td>3.504391</td>\n",
       "    </tr>\n",
       "    <tr>\n",
       "      <th>3</th>\n",
       "      <td>Burglary</td>\n",
       "      <td>2.544236</td>\n",
       "    </tr>\n",
       "    <tr>\n",
       "      <th>4</th>\n",
       "      <td>Criminal Sexual Abuse</td>\n",
       "      <td>1.565359</td>\n",
       "    </tr>\n",
       "    <tr>\n",
       "      <th>5</th>\n",
       "      <td>Criminal Sexual Assault</td>\n",
       "      <td>9.478272</td>\n",
       "    </tr>\n",
       "    <tr>\n",
       "      <th>6</th>\n",
       "      <td>Disorderly Conduct</td>\n",
       "      <td>0.413220</td>\n",
       "    </tr>\n",
       "    <tr>\n",
       "      <th>7</th>\n",
       "      <td>Drug Abuse</td>\n",
       "      <td>0.753394</td>\n",
       "    </tr>\n",
       "    <tr>\n",
       "      <th>8</th>\n",
       "      <td>Embezzlement</td>\n",
       "      <td>0.608030</td>\n",
       "    </tr>\n",
       "    <tr>\n",
       "      <th>9</th>\n",
       "      <td>Forgery &amp; Counterfeiting</td>\n",
       "      <td>0.821783</td>\n",
       "    </tr>\n",
       "    <tr>\n",
       "      <th>10</th>\n",
       "      <td>Fraud</td>\n",
       "      <td>0.691915</td>\n",
       "    </tr>\n",
       "    <tr>\n",
       "      <th>11</th>\n",
       "      <td>Gambling</td>\n",
       "      <td>0.620222</td>\n",
       "    </tr>\n",
       "    <tr>\n",
       "      <th>12</th>\n",
       "      <td>Homicide 1st &amp; 2nd Degree</td>\n",
       "      <td>26.341289</td>\n",
       "    </tr>\n",
       "    <tr>\n",
       "      <th>13</th>\n",
       "      <td>Involuntary Manslaughter</td>\n",
       "      <td>3.738734</td>\n",
       "    </tr>\n",
       "    <tr>\n",
       "      <th>14</th>\n",
       "      <td>Larceny</td>\n",
       "      <td>0.906529</td>\n",
       "    </tr>\n",
       "    <tr>\n",
       "      <th>15</th>\n",
       "      <td>Liquor License</td>\n",
       "      <td>NaN</td>\n",
       "    </tr>\n",
       "    <tr>\n",
       "      <th>16</th>\n",
       "      <td>Misc Non-Index Offense</td>\n",
       "      <td>0.646936</td>\n",
       "    </tr>\n",
       "    <tr>\n",
       "      <th>17</th>\n",
       "      <td>Motor Vehicle Theft</td>\n",
       "      <td>1.268479</td>\n",
       "    </tr>\n",
       "    <tr>\n",
       "      <th>18</th>\n",
       "      <td>Offenses Against Family</td>\n",
       "      <td>2.623715</td>\n",
       "    </tr>\n",
       "    <tr>\n",
       "      <th>19</th>\n",
       "      <td>Prostitution</td>\n",
       "      <td>1.409509</td>\n",
       "    </tr>\n",
       "    <tr>\n",
       "      <th>20</th>\n",
       "      <td>Robbery</td>\n",
       "      <td>5.467185</td>\n",
       "    </tr>\n",
       "    <tr>\n",
       "      <th>21</th>\n",
       "      <td>Simple Assault</td>\n",
       "      <td>2.303894</td>\n",
       "    </tr>\n",
       "    <tr>\n",
       "      <th>22</th>\n",
       "      <td>Simple Battery</td>\n",
       "      <td>0.526788</td>\n",
       "    </tr>\n",
       "    <tr>\n",
       "      <th>23</th>\n",
       "      <td>Stolen Property</td>\n",
       "      <td>1.851441</td>\n",
       "    </tr>\n",
       "    <tr>\n",
       "      <th>24</th>\n",
       "      <td>Vandalism</td>\n",
       "      <td>0.521379</td>\n",
       "    </tr>\n",
       "    <tr>\n",
       "      <th>25</th>\n",
       "      <td>Weapons Violation</td>\n",
       "      <td>2.507275</td>\n",
       "    </tr>\n",
       "  </tbody>\n",
       "</table>\n",
       "</div>"
      ],
      "text/plain": [
       "            crime_description  mean_severity\n",
       "0          Aggravated Assault       2.303894\n",
       "1          Aggravated Battery       2.561333\n",
       "2                       Arson       3.504391\n",
       "3                    Burglary       2.544236\n",
       "4       Criminal Sexual Abuse       1.565359\n",
       "5     Criminal Sexual Assault       9.478272\n",
       "6          Disorderly Conduct       0.413220\n",
       "7                  Drug Abuse       0.753394\n",
       "8                Embezzlement       0.608030\n",
       "9    Forgery & Counterfeiting       0.821783\n",
       "10                      Fraud       0.691915\n",
       "11                   Gambling       0.620222\n",
       "12  Homicide 1st & 2nd Degree      26.341289\n",
       "13   Involuntary Manslaughter       3.738734\n",
       "14                    Larceny       0.906529\n",
       "15             Liquor License            NaN\n",
       "16     Misc Non-Index Offense       0.646936\n",
       "17        Motor Vehicle Theft       1.268479\n",
       "18    Offenses Against Family       2.623715\n",
       "19              Prostitution        1.409509\n",
       "20                    Robbery       5.467185\n",
       "21             Simple Assault       2.303894\n",
       "22             Simple Battery       0.526788\n",
       "23            Stolen Property       1.851441\n",
       "24                  Vandalism       0.521379\n",
       "25          Weapons Violation       2.507275"
      ]
     },
     "execution_count": 35,
     "metadata": {},
     "output_type": "execute_result"
    }
   ],
   "source": [
    "mean_crime_severity_by_descr"
   ]
  },
  {
   "cell_type": "code",
   "execution_count": 36,
   "metadata": {
    "collapsed": true
   },
   "outputs": [],
   "source": [
    "mean_severity = pd.merge(individual_crimes[['crime_description']], \n",
    "                         mean_crime_severity_by_descr,\n",
    "                         on = 'crime_description')"
   ]
  },
  {
   "cell_type": "code",
   "execution_count": 37,
   "metadata": {},
   "outputs": [
    {
     "data": {
      "text/html": [
       "<div>\n",
       "<style>\n",
       "    .dataframe thead tr:only-child th {\n",
       "        text-align: right;\n",
       "    }\n",
       "\n",
       "    .dataframe thead th {\n",
       "        text-align: left;\n",
       "    }\n",
       "\n",
       "    .dataframe tbody tr th {\n",
       "        vertical-align: top;\n",
       "    }\n",
       "</style>\n",
       "<table border=\"1\" class=\"dataframe\">\n",
       "  <thead>\n",
       "    <tr style=\"text-align: right;\">\n",
       "      <th></th>\n",
       "      <th>crime_description</th>\n",
       "      <th>mean_severity</th>\n",
       "    </tr>\n",
       "  </thead>\n",
       "  <tbody>\n",
       "    <tr>\n",
       "      <th>0</th>\n",
       "      <td>Robbery</td>\n",
       "      <td>5.467185</td>\n",
       "    </tr>\n",
       "    <tr>\n",
       "      <th>1</th>\n",
       "      <td>Robbery</td>\n",
       "      <td>5.467185</td>\n",
       "    </tr>\n",
       "    <tr>\n",
       "      <th>2</th>\n",
       "      <td>Robbery</td>\n",
       "      <td>5.467185</td>\n",
       "    </tr>\n",
       "    <tr>\n",
       "      <th>3</th>\n",
       "      <td>Robbery</td>\n",
       "      <td>5.467185</td>\n",
       "    </tr>\n",
       "    <tr>\n",
       "      <th>4</th>\n",
       "      <td>Robbery</td>\n",
       "      <td>5.467185</td>\n",
       "    </tr>\n",
       "  </tbody>\n",
       "</table>\n",
       "</div>"
      ],
      "text/plain": [
       "  crime_description  mean_severity\n",
       "0           Robbery       5.467185\n",
       "1           Robbery       5.467185\n",
       "2           Robbery       5.467185\n",
       "3           Robbery       5.467185\n",
       "4           Robbery       5.467185"
      ]
     },
     "execution_count": 37,
     "metadata": {},
     "output_type": "execute_result"
    }
   ],
   "source": [
    "mean_severity.head()"
   ]
  },
  {
   "cell_type": "code",
   "execution_count": null,
   "metadata": {
    "collapsed": true
   },
   "outputs": [],
   "source": [
    "individual_crimes['severity'] = np.where(individual_crimes['severity'].isnull(),\n",
    "                                         mean_severity['mean_severity'],\n",
    "                                         individual_crimes['severity'])"
   ]
  },
  {
   "cell_type": "markdown",
   "metadata": {},
   "source": [
    "### Neighborhood crime intensity\n",
    "\n",
    "Now, using the severity index and the frequency of different crimes in different neighborhoods, lets get an idea of the intensity of crimes by types by neighborhood."
   ]
  },
  {
   "cell_type": "code",
   "execution_count": null,
   "metadata": {
    "collapsed": true
   },
   "outputs": [],
   "source": [
    "neighb_crimes_intermediate =\\\n",
    "    individual_crimes.groupby(['neighborhood', 'crime_description', 'crime_type', 'time'])[['severity']]\\\n",
    "    .sum().rename(columns = {'sum' : 'severity'})"
   ]
  },
  {
   "cell_type": "code",
   "execution_count": null,
   "metadata": {
    "collapsed": true
   },
   "outputs": [],
   "source": [
    "neighb_crime_intensity = neighb_crimes_intermediate\\\n",
    "    .pivot_table(index = ['neighborhood', 'time'], \n",
    "                 columns = ['crime_type', 'crime_description'],\n",
    "                 values = 'severity')\\\n",
    "    .fillna(0)\\\n",
    "    .groupby(level = 'neighborhood', group_keys = False)\\\n",
    "    .rolling(12).sum()"
   ]
  },
  {
   "cell_type": "code",
   "execution_count": null,
   "metadata": {
    "collapsed": true
   },
   "outputs": [],
   "source": [
    "neighb_crimes_population_ref = pd.DataFrame(index = neighb_crime_intensity.index)\\\n",
    "    .join(neighb_population.set_index(['neighborhood', 'time']))['population']\n",
    "\n",
    "neighb_crimes_percapita = neighb_crime_intensity.copy().div(neighb_crimes_population_ref, axis = 0)"
   ]
  },
  {
   "cell_type": "code",
   "execution_count": null,
   "metadata": {},
   "outputs": [],
   "source": [
    "category = 'Violent'\n",
    "\n",
    "crime_category_time = neighb_crimes_percapita.sum(axis = 1, level = 0)[[category]]\\\n",
    "    .reset_index()\\\n",
    "    .pivot(index = 'time', columns = 'neighborhood', values = category)\n",
    "\n",
    "multi_timeseries_explore_plot(crime_category_time, title = category + ' crime intensity per person (1yr rolling)')\n",
    "\n",
    "plt.show()"
   ]
  },
  {
   "cell_type": "markdown",
   "metadata": {},
   "source": [
    "### City of Chicago Crime Intensity\n",
    "\n",
    "A similar analysis to the above allows us to produce the mean crime severity throughout the entire city through time"
   ]
  },
  {
   "cell_type": "code",
   "execution_count": null,
   "metadata": {
    "collapsed": true
   },
   "outputs": [],
   "source": [
    "chicago_crimes_intermediate =\\\n",
    "    individual_crimes.groupby(['crime_description', 'crime_type', 'time'])[['severity']]\\\n",
    "    .sum().rename(columns = {'sum' : 'severity'})"
   ]
  },
  {
   "cell_type": "code",
   "execution_count": null,
   "metadata": {
    "collapsed": true
   },
   "outputs": [],
   "source": [
    "chicago_crime_intensity = chicago_crimes_intermediate\\\n",
    "    .pivot_table(index = 'time', \n",
    "                 columns = ['crime_type', 'crime_description'],\n",
    "                 values = 'severity')\\\n",
    "    .fillna(0)\\\n",
    "    .rolling(12).sum()"
   ]
  },
  {
   "cell_type": "code",
   "execution_count": null,
   "metadata": {
    "collapsed": true
   },
   "outputs": [],
   "source": [
    "chicago_crime_intensity_ref = pd.DataFrame(index = chicago_crime_intensity.index)\\\n",
    "    .join(city_population.set_index(['time'])[['population']])['population']\n",
    "\n",
    "chicago_crimes_percapita = chicago_crime_intensity.copy().div(chicago_crime_intensity_ref, axis = 0)"
   ]
  },
  {
   "cell_type": "code",
   "execution_count": null,
   "metadata": {},
   "outputs": [],
   "source": [
    "chicago_crimes_percapita.sum(level=0, axis=1).plot(title = 'City of Chicago annualized crime per capita')\n",
    "\n",
    "plt.show()"
   ]
  },
  {
   "cell_type": "code",
   "execution_count": null,
   "metadata": {},
   "outputs": [],
   "source": [
    "chicago_crimes_percapita['Property']\\\n",
    "    .plot(title = 'City of Chicago annualized property crime per capita')\\\n",
    "    .legend(bbox_to_anchor=(1, 1.05))\n",
    "plt.show()"
   ]
  },
  {
   "cell_type": "markdown",
   "metadata": {},
   "source": [
    "### Race crime share\n",
    "\n",
    "We can also look at density of race in each neighborhood to get a proxy of how crime affects various races\n",
    "\n",
    "We do this by taking the neighborhood per capita crime, which is the approximately same at the race level within the neighborhood, and doing a race-weighted-average across the city.\n",
    "\n",
    "What this means is we weight crime by the race populations in the neighborhood compared to the total race population in the city."
   ]
  },
  {
   "cell_type": "code",
   "execution_count": null,
   "metadata": {
    "collapsed": true
   },
   "outputs": [],
   "source": [
    "neighb_population_pct_total = pd.merge(\n",
    "    pd.melt(neighb_population.drop('population', axis = 1), \n",
    "            id_vars = ['neighborhood', 'time'], \n",
    "            var_name = 'race',\n",
    "            value_name = 'neighb_pop').reset_index(),\n",
    "    pd.melt(city_population.drop('population', axis = 1), \n",
    "            id_vars = ['time'], \n",
    "            var_name = 'race',\n",
    "            value_name = 'city_pop').reset_index(),\n",
    "    on = ['time', 'race']\n",
    ")\n",
    "neighb_population_pct_total['city_race_pct'] = neighb_population_pct_total['neighb_pop'] / neighb_population_pct_total['city_pop']\n",
    "neighb_population_pct_total = neighb_population_pct_total[['neighborhood', 'time', 'race', 'city_race_pct']]\n",
    "neighb_population_pct_total = neighb_population_pct_total.sort_values(['neighborhood', 'time']).reset_index(drop = True)"
   ]
  },
  {
   "cell_type": "code",
   "execution_count": null,
   "metadata": {
    "collapsed": true
   },
   "outputs": [],
   "source": [
    "crimes_per_capita_melted = \\\n",
    "    pd.melt(neighb_crimes_percapita.reset_index(), id_vars = ['neighborhood', 'time'], value_name = 'severity')\n",
    "\n",
    "crimes_per_capita_race_intermediate = pd.merge(crimes_per_capita_melted, \n",
    "                                               neighb_population_pct_total, \n",
    "                                               on = ['neighborhood', 'time'])\n",
    "crimes_per_capita_race_intermediate['weighted_severity'] = \\\n",
    "    crimes_per_capita_race_intermediate['severity'] * crimes_per_capita_race_intermediate['city_race_pct']\n",
    "    \n",
    "crimes_per_capita_race = crimes_per_capita_race_intermediate\\\n",
    "    .pivot_table(index = ['race', 'time'], \n",
    "                 columns = ['crime_type', 'crime_description'], \n",
    "                 values = ['weighted_severity'], aggfunc = np.sum)['weighted_severity']"
   ]
  },
  {
   "cell_type": "code",
   "execution_count": null,
   "metadata": {},
   "outputs": [],
   "source": [
    "race_over_time = crimes_per_capita_race.sum(axis = 1)\\\n",
    "    .reset_index()\\\n",
    "    .pivot(index = 'time', columns = 'race')[0]\n",
    "\n",
    "race_over_time.plot(title = 'crime intensity by race')\n",
    "\n",
    "plt.show()"
   ]
  },
  {
   "cell_type": "code",
   "execution_count": null,
   "metadata": {},
   "outputs": [],
   "source": [
    "race_over_time_indexed = race_over_time.div(race_over_time.loc[race_over_time.first_valid_index()], axis = 1)\n",
    "\n",
    "race_over_time_indexed.plot(title = 'crime intensity indexed to 2002')\n",
    "\n",
    "plt.show()"
   ]
  },
  {
   "cell_type": "markdown",
   "metadata": {},
   "source": [
    "### City crime Gini coefficients"
   ]
  },
  {
   "cell_type": "code",
   "execution_count": null,
   "metadata": {
    "collapsed": true
   },
   "outputs": [],
   "source": [
    "crime_types_for_gini = np.append(neighb_crimes_percapita.columns.levels[0].values, 'Total')\n",
    "\n",
    "crimes_for_gini_prep = neighb_crimes_percapita.sum(axis = 1, level = 0)\n",
    "crimes_for_gini_prep['Total'] = crimes_for_gini_prep.sum(axis = 1)\n",
    "crimes_for_gini_prep['pop_weight'] = neighb_crimes_population_ref\n",
    "crimes_for_gini_prep = crimes_for_gini_prep.reset_index().pivot(index = 'time', columns = 'neighborhood')"
   ]
  },
  {
   "cell_type": "code",
   "execution_count": null,
   "metadata": {
    "collapsed": true
   },
   "outputs": [],
   "source": [
    "crime_gini_timeseries = pd.DataFrame(index = crimes_for_gini_prep.index)\n",
    "\n",
    "for ct in crime_types_for_gini:\n",
    "    crime_gini_timeseries[ct] = \\\n",
    "        crimes_for_gini_prep.apply(lambda row: gini(row[ct].values, row['pop_weight'].values), axis = 1)"
   ]
  },
  {
   "cell_type": "code",
   "execution_count": null,
   "metadata": {},
   "outputs": [],
   "source": [
    "crime_gini_timeseries.plot(title = 'Chicago crime Gini coefficient')\n",
    "plt.show()"
   ]
  },
  {
   "cell_type": "markdown",
   "metadata": {},
   "source": [
    "### Crime concentrations in top/bot of city\n",
    "\n",
    "On the way we can also calculate crime levels for top / bot populations.\n",
    "\n",
    "Note -- we need to get the crime PER CAPITA from a subset of the population containing a calculated $x$ percent of total crime. This means that the aggregate crime in that subset is $xCP$, where $C$ is the city crime per capita and $P$ is the total population. Hence the crime per person is $xC/s$ where $s$ is the percentile (i.e. here 20%). Thus, the crime per captia is (percent of crime contained) * (city crime per capita) / (percent of city represented)\n",
    "\n",
    "Hence this level calculation will produce the average crime level felt by the top/bottom percentiles."
   ]
  },
  {
   "cell_type": "code",
   "execution_count": null,
   "metadata": {
    "collapsed": true
   },
   "outputs": [],
   "source": [
    "chicago_crime_level_for_top_bot = chicago_crimes_percapita.sum(level = 0, axis = 1)\n",
    "chicago_crime_level_for_top_bot['Total'] = chicago_crimes_percapita.sum(axis = 1)\n",
    "crime_top_pct_timeseries = pd.DataFrame(index = crimes_for_gini_prep.index)\n",
    "crime_top_pctile_level_timeseries = pd.DataFrame(index = crimes_for_gini_prep.index)\n",
    "crime_top_avg_timeseries = pd.DataFrame(index = crimes_for_gini_prep.index) \n",
    "crime_bot_pct_timeseries = pd.DataFrame(index = crimes_for_gini_prep.index)\n",
    "crime_bot_avg_timeseries = pd.DataFrame(index = crimes_for_gini_prep.index)\n",
    "crime_bot_pctile_level_timeseries = pd.DataFrame(index = crimes_for_gini_prep.index)\n",
    "\n",
    "top_pct_consider = 0.25\n",
    "for ct in crime_types_for_gini:\n",
    "    \n",
    "    crime_top_pct_timeseries[ct] = \\\n",
    "        crimes_for_gini_prep.apply(lambda row: pct_of_crime_in_top_pct_ppl(\n",
    "                                       get_lorenz_curve(row[ct].values, row['pop_weight'].values), \n",
    "                                       top_pct_consider),\n",
    "                                   axis = 1)\n",
    "        \n",
    "    crime_top_pctile_level_timeseries[ct] = crimes_for_gini_prep.apply(lambda row: get_top_percentile_level(\n",
    "                                       top_pct_consider,\n",
    "                                       row[ct].values, \n",
    "                                       row['pop_weight'].values), \n",
    "                                   axis = 1)\n",
    "    \n",
    "    crime_top_avg_timeseries[ct] = crime_top_pct_timeseries.join(chicago_crime_level_for_top_bot, rsuffix='chicago')\\\n",
    "        .apply(lambda row: row[ct] * row[ct+'chicago'], axis = 1) / top_pct_consider\n",
    "    \n",
    "    crime_bot_pct_timeseries[ct] = \\\n",
    "        crimes_for_gini_prep.apply(lambda row: 1 - pct_of_crime_in_top_pct_ppl(\n",
    "                                       get_lorenz_curve(row[ct].values, row['pop_weight'].values), \n",
    "                                       1 - top_pct_consider),\n",
    "                                   axis = 1)\n",
    "    \n",
    "    crime_bot_avg_timeseries[ct] = crime_bot_pct_timeseries.join(chicago_crime_level_for_top_bot, rsuffix='chicago')\\\n",
    "        .apply(lambda row: row[ct] * row[ct+'chicago'], axis = 1) / top_pct_consider\n",
    "        \n",
    "    crime_bot_pctile_level_timeseries[ct] = crimes_for_gini_prep.apply(lambda row: get_top_percentile_level(\n",
    "                                       1 - top_pct_consider,\n",
    "                                       row[ct].values, \n",
    "                                       row['pop_weight'].values), \n",
    "                                   axis = 1)"
   ]
  },
  {
   "cell_type": "code",
   "execution_count": null,
   "metadata": {},
   "outputs": [],
   "source": [
    "crime_bot_pct_timeseries.plot(title = 'Pct of crime concentrated in least exposed ' + str(round(100 * top_pct_consider)) + '% pop')\n",
    "plt.show()"
   ]
  },
  {
   "cell_type": "code",
   "execution_count": null,
   "metadata": {},
   "outputs": [],
   "source": [
    "(crime_top_pct_timeseries / crime_bot_pct_timeseries.values).plot()\n",
    "\n",
    "plt.show()"
   ]
  },
  {
   "cell_type": "code",
   "execution_count": null,
   "metadata": {},
   "outputs": [],
   "source": [
    "crime_top_bot_ratio_timeseries = (crime_top_pct_timeseries / crime_bot_pct_timeseries.values)\n",
    "\n",
    "crime_top_bot_ratio_timeseries[['Total']].plot()\n",
    "\n",
    "plt.show()"
   ]
  },
  {
   "cell_type": "markdown",
   "metadata": {},
   "source": [
    "### Make a single dataframe with top/bot ratio, level, and chicago avg"
   ]
  },
  {
   "cell_type": "code",
   "execution_count": null,
   "metadata": {},
   "outputs": [],
   "source": [
    "crime_top_bot = pd.concat([\n",
    "    pd.melt(chicago_crime_level_for_top_bot.reset_index(), \n",
    "        id_vars = 'time', var_name = 'crime_type', value_name = 'chicago_crime')\\\n",
    "        .set_index(['crime_type', 'time']),\n",
    "    pd.melt(crime_top_pct_timeseries.reset_index(), \n",
    "        id_vars = 'time', var_name = 'crime_type', value_name = 'crime_top_pct')\\\n",
    "        .set_index(['crime_type', 'time']),\n",
    "    pd.melt(crime_bot_pct_timeseries.reset_index(), \n",
    "        id_vars = 'time', var_name = 'crime_type', value_name = 'crime_bot_pct')\\\n",
    "        .set_index(['crime_type', 'time']),\n",
    "    pd.melt(crime_top_avg_timeseries.reset_index(), \n",
    "        id_vars = 'time', var_name = 'crime_type', value_name = 'crime_top_avg')\\\n",
    "        .set_index(['crime_type', 'time']),\n",
    "    pd.melt(crime_bot_avg_timeseries.reset_index(), \n",
    "        id_vars = 'time', var_name = 'crime_type', value_name = 'crime_bot_avg')\\\n",
    "        .set_index(['crime_type', 'time']),\n",
    "    pd.melt(crime_top_pctile_level_timeseries.reset_index(), \n",
    "        id_vars = 'time', var_name = 'crime_type', value_name = 'crime_top_pctile_lvl')\\\n",
    "        .set_index(['crime_type', 'time']),\n",
    "    pd.melt(crime_bot_pctile_level_timeseries.reset_index(), \n",
    "        id_vars = 'time', var_name = 'crime_type', value_name = 'crime_bot_pctile_lvl')\\\n",
    "        .set_index(['crime_type', 'time'])    \n",
    "], axis = 1).reset_index()\\\n",
    "    .pivot_table(index = 'time', columns = 'crime_type')\\\n",
    "    .swaplevel(1, 0, axis = 1)\\\n",
    "    .sort_index(axis = 1)"
   ]
  },
  {
   "cell_type": "code",
   "execution_count": null,
   "metadata": {},
   "outputs": [],
   "source": [
    "crime_top_bot.tail()"
   ]
  },
  {
   "cell_type": "code",
   "execution_count": null,
   "metadata": {},
   "outputs": [],
   "source": [
    "for ct in crime_top_bot.columns.levels[0]:\n",
    "    crime_top_bot[ct][['chicago_crime', 'crime_top_avg', 'crime_top_pctile_lvl', 'crime_bot_avg', 'crime_bot_pctile_lvl']].plot(title = ct + ' crime intensity')\n",
    "    plt.gca().set_ylim(bottom=0)\n",
    "plt.show()"
   ]
  },
  {
   "cell_type": "code",
   "execution_count": null,
   "metadata": {
    "scrolled": true
   },
   "outputs": [],
   "source": [
    "for ct in crime_top_bot.columns.levels[0]:\n",
    "    (-1 + crime_top_bot[ct].div(crime_top_bot[ct].loc['2002-01'], axis = 1)\\\n",
    "        [['chicago_crime', 'crime_top_pctile_lvl', 'crime_bot_pctile_lvl']]).plot(title = ct + ' pct crime drop since 2002')\n",
    "    plt.xlim('2002-01', '2017-06')\n",
    "plt.show()"
   ]
  },
  {
   "cell_type": "code",
   "execution_count": null,
   "metadata": {},
   "outputs": [],
   "source": [
    "for col in crime_top_bot.columns.levels[0]:\n",
    "    print(col)\n",
    "    print((1 - crime_top_bot[col].div(crime_top_bot[col].loc['2002-01'], axis = 1)\\\n",
    "        [['chicago_crime', 'crime_top_avg', 'crime_bot_avg']]).tail(1))\n",
    "    print()"
   ]
  },
  {
   "cell_type": "markdown",
   "metadata": {},
   "source": [
    "### And some more gini break-outs..."
   ]
  },
  {
   "cell_type": "code",
   "execution_count": null,
   "metadata": {},
   "outputs": [],
   "source": [
    "for ct in crime_types_for_gini:\n",
    "    last_idx = crimes_for_gini_prep.index[-1]\n",
    "    x, y = zip(*get_lorenz_curve(crimes_for_gini_prep.loc[last_idx][ct], crimes_for_gini_prep.loc[last_idx]['pop_weight']))\n",
    "    plt.plot(x, y, label = ct)\n",
    "plt.xlabel('cumulative share of people, lowest to highest crime exposure')\n",
    "plt.ylabel('cumulative share of crime')\n",
    "plt.ylim(0, 1)\n",
    "plt.xlim(0, 1)\n",
    "plt.legend()\n",
    "plt.show()"
   ]
  },
  {
   "cell_type": "code",
   "execution_count": null,
   "metadata": {},
   "outputs": [],
   "source": [
    "top_pct_consider = 0.25\n",
    "first_idx = crimes_for_gini_prep.index[~crimes_for_gini_prep['Total'].sum(axis = 1).isnull()][0]\n",
    "last_idx = crimes_for_gini_prep.index[-1]\n",
    "for ct in crime_types_for_gini:\n",
    "    plt.xlabel('cumulative share of people, lowest to highest crime exposure')\n",
    "    plt.ylabel('cumulative share of crime')\n",
    "    plt.title(ct)\n",
    "    plt.ylim(0, 1)\n",
    "    plt.xlim(0, 1)\n",
    "    tmp_lorenz_curve = get_lorenz_curve(crimes_for_gini_prep.loc[first_idx][ct], crimes_for_gini_prep.loc[first_idx]['pop_weight'])\n",
    "    top_crime_initial = pct_of_crime_in_top_pct_ppl(tmp_lorenz_curve, top_pct_consider)\n",
    "    x, y = zip(*tmp_lorenz_curve)\n",
    "    plt.plot(x, y, label = ct)\n",
    "    tmp_lorenz_curve = get_lorenz_curve(crimes_for_gini_prep.loc[last_idx][ct], crimes_for_gini_prep.loc[last_idx]['pop_weight'])\n",
    "    top_crime_final = pct_of_crime_in_top_pct_ppl(tmp_lorenz_curve, top_pct_consider)\n",
    "    x, y = zip(*tmp_lorenz_curve)\n",
    "    plt.plot(x, y, label = ct)\n",
    "    plt.legend([str(first_idx) + ' - ' + str(int(top_pct_consider*100)) + \\\n",
    "                  '% ppl represent ' + str(int(100*top_crime_initial)) + '% crime',\n",
    "                str(last_idx) + ' - ' + str(int(top_pct_consider*100)) + \\\n",
    "                  '% ppl represent ' + str(int(100*top_crime_final)) + '% crime'])\n",
    "    plt.show()"
   ]
  },
  {
   "cell_type": "markdown",
   "metadata": {
    "collapsed": true
   },
   "source": [
    "## A look at crime and income\n",
    "\n",
    "How have crime intensity and incomes moved over time and is there a relation between these? While overall crime intensity per person has come down throughout the city, there are cases where it was flat or increased, contributing to the increase in crime inequality (i.e. overall some of the city has gotten better, but some has stayed the same). How does this look when accounting for income?\n",
    "\n",
    "The two time points we'll use for reference are 1/2002 and 1/2017, and we'll take a look at how things have shifted during this 15 year period."
   ]
  },
  {
   "cell_type": "code",
   "execution_count": null,
   "metadata": {
    "collapsed": true
   },
   "outputs": [],
   "source": [
    "crimes_vs_income_time = pd.DataFrame({ 'crime_intensity' : neighb_crimes_percapita.sum(axis = 1).copy()})\n",
    "crimes_vs_income_time = crimes_vs_income_time\\\n",
    "    .join(neighb_incomes.set_index(['neighborhood', 'time'])['median_income'])"
   ]
  },
  {
   "cell_type": "code",
   "execution_count": null,
   "metadata": {
    "collapsed": true
   },
   "outputs": [],
   "source": [
    "history_point = pd.Period('2002-01', 'M')\n",
    "spot_point = pd.Period('2017-01', 'M')\n",
    "\n",
    "crimes_vs_income = crimes_vs_income_time[\n",
    "    np.isin(crimes_vs_income_time.reset_index()['time'].values, (history_point, spot_point))\n",
    "].reset_index().pivot_table(index = 'neighborhood', columns = 'time', values = ['crime_intensity', 'median_income'])\n",
    "\n",
    "for col in crimes_vs_income.columns.levels[0]:\n",
    "    crimes_vs_income[col, 'difference'] = crimes_vs_income[col, spot_point] - crimes_vs_income[col, history_point]\n",
    "    \n",
    "crimes_vs_income = crimes_vs_income.reorder_levels([1, 0], axis = 1)"
   ]
  },
  {
   "cell_type": "code",
   "execution_count": null,
   "metadata": {},
   "outputs": [],
   "source": [
    "ax = crimes_vs_income[history_point].plot.scatter('median_income', 'crime_intensity', label = history_point)\n",
    "crimes_vs_income[spot_point].plot.scatter('median_income', 'crime_intensity', label = spot_point, color = 'g', ax = ax)\n",
    "\n",
    "plt.show()"
   ]
  },
  {
   "cell_type": "code",
   "execution_count": null,
   "metadata": {},
   "outputs": [],
   "source": [
    "crimes_vs_income['difference'].plot.scatter('median_income', 'crime_intensity')\n",
    "plt.xlabel('change in median_income')\n",
    "plt.ylabel('chane in crime_intensity')\n",
    "plt.axhline(0, color = 'k', linewidth = 0.5)\n",
    "plt.axvline(0, color = 'k', linewidth = 0.5)\n",
    "plt.show()"
   ]
  },
  {
   "cell_type": "markdown",
   "metadata": {},
   "source": [
    "## Feature Engineering and Crime Storytelling\n",
    "\n",
    "Here we engineer some features about crime largely for classifying which \"one of those\" neighborhoods (or groups of neighborhoods) are. These are features that appeared interesting and notable after taking time to understand the data. \n",
    "\n",
    "The idea here is to essentially filter on demographic information and get back key crime information. \n",
    "\n",
    "The features are...\n",
    "\n",
    "Keys / demographics\n",
    "* Race profile: Black/White/Hispanic/Mixed\n",
    "* Income profile: High/Med/Low\n",
    "\n",
    "Values / crime characteristics\n",
    "* Endpoint crime High/Med/Low\n",
    "* Long term crime trend: Flat/Down\n",
    "* Long term crime trend relative to mean: Higher/Flat/Lower\n",
    "* Contribution to change in equality\n",
    "* Elevated crime categories\n",
    "* Recent uptick in crime: is moving average high compared to endpoint?\n",
    "\n",
    "... and story embellishments ...\n",
    "\n",
    "* Income change: Up/Flat/Down\n",
    "* Population: Growing/Flat/Shrinking"
   ]
  },
  {
   "cell_type": "markdown",
   "metadata": {},
   "source": [
    "#### Key: Race profile (Black/White/Hispanic/Mixed)\n",
    "\n",
    "Define the neighborhoods race as the predominant race if it's more than 50% of the population."
   ]
  },
  {
   "cell_type": "code",
   "execution_count": null,
   "metadata": {
    "collapsed": true
   },
   "outputs": [],
   "source": [
    "def get_primary_race(row, race_thresh_classify = 0.5):\n",
    "    max_race = row.idxmax()\n",
    "    return 'mixed' if row[max_race] < race_thresh_classify or max_race == 'other' else max_race\n",
    "\n",
    "# already sorted by time so just drop the column and take last\n",
    "neighb_primary_race = neighb_pct_population.drop('time', axis = 1)\\\n",
    "    .groupby('neighborhood').last()\n",
    "    \n",
    "neighb_primary_race['primary_race'] = neighb_primary_race.apply(get_primary_race, axis = 1)\n",
    "neighb_primary_race = neighb_primary_race[['primary_race']]"
   ]
  },
  {
   "cell_type": "markdown",
   "metadata": {},
   "source": [
    "#### Key: Income profile (High/Med/Low)\n",
    "\n",
    "* \\> 60% above city median $\\rightarrow$ high income\n",
    "* \\> 60% below city median $\\rightarrow$ low income\n",
    "* else $\\rightarrow$ medium income"
   ]
  },
  {
   "cell_type": "code",
   "execution_count": null,
   "metadata": {
    "collapsed": true
   },
   "outputs": [],
   "source": [
    "city_median_income = chicago_incomes['median_income'].values[-1]"
   ]
  },
  {
   "cell_type": "code",
   "execution_count": null,
   "metadata": {
    "collapsed": true
   },
   "outputs": [],
   "source": [
    "# calculate by associating a \"factor\" with the \"above median\" category\n",
    "# one bucket contains the median -- this one needs to be divided assumiung even distribution within the bucket\n",
    "\n",
    "def get_factor_above_median_from_col_name(col, city_median):\n",
    "    # just assign numbers for sake of median calc -- these will not affect median\n",
    "    if 'Less' in col and '$10,000' in col:\n",
    "        return 0.0\n",
    "    elif '$200,000' in col:\n",
    "        return 1.0 \n",
    "    # edge cases handled by here\n",
    "    numbers = sorted([ int(num) for num in col.replace(',', '').replace('$', '').split(' to ') ])\n",
    "    if max(numbers) < city_median:\n",
    "        return 0.0\n",
    "    elif min(numbers) > city_median:\n",
    "        return 1.0\n",
    "    else: # bucket contains median\n",
    "        return (city_median - min(numbers))/(max(numbers) - min(numbers))\n",
    "    \n",
    "\n",
    "factor_above_median_income_col = { col : get_factor_above_median_from_col_name(col, city_median_income)\\\n",
    "                                   for col in neighb_incomes if col not in [ 'neighborhood', 'median_income', 'time' ]}"
   ]
  },
  {
   "cell_type": "code",
   "execution_count": null,
   "metadata": {
    "collapsed": true
   },
   "outputs": [],
   "source": [
    "def get_income_classification(row, factor_above_median_income_col, fraction_thresh = 0.6):\n",
    "    total_pop = row.sum()\n",
    "    pct_above_median = sum([ factor_above_median_income_col[idx] * val / total_pop for idx, val in row.iteritems()])\n",
    "    if pct_above_median > fraction_thresh:\n",
    "        return 'high'\n",
    "    elif pct_above_median < 1 - fraction_thresh:\n",
    "        return 'low'\n",
    "    else:\n",
    "        return 'medium'"
   ]
  },
  {
   "cell_type": "code",
   "execution_count": null,
   "metadata": {
    "collapsed": true
   },
   "outputs": [],
   "source": [
    "neighb_income_profile = neighb_incomes.drop(['time', 'median_income'], axis = 1)\\\n",
    "    .groupby('neighborhood').last()\n",
    "    \n",
    "neighb_income_profile['income_class'] = \\\n",
    "    neighb_income_profile.apply(lambda row: get_income_classification(row, factor_above_median_income_col), axis = 1)\n",
    "    \n",
    "neighb_income_profile = neighb_income_profile[['income_class']]"
   ]
  },
  {
   "cell_type": "code",
   "execution_count": null,
   "metadata": {},
   "outputs": [],
   "source": [
    "neighb_income_profile.reset_index().groupby('income_class').agg('count')"
   ]
  },
  {
   "cell_type": "markdown",
   "metadata": {},
   "source": [
    "#### Value: Crime level (High/Med/Low)\n",
    "\n",
    "Similar to incomes, define high/med/low relative to city median crime. Also look at an endpoint here."
   ]
  },
  {
   "cell_type": "code",
   "execution_count": null,
   "metadata": {
    "collapsed": true
   },
   "outputs": [],
   "source": [
    "def get_crime_level_description(crime_relative_to_city):\n",
    "    if crime_relative_to_city < 0.5:\n",
    "        return 'low'\n",
    "    elif crime_relative_to_city > 1.5:\n",
    "        return 'high'\n",
    "    else:\n",
    "        return 'normal'"
   ]
  },
  {
   "cell_type": "code",
   "execution_count": null,
   "metadata": {
    "collapsed": true
   },
   "outputs": [],
   "source": [
    "city_crime_level = chicago_crimes_percapita.sum(axis = 1).values[-1]\n",
    "\n",
    "neighb_crime_level = pd.DataFrame({'total_crime' : neighb_crimes_percapita.sum(axis = 1)})\\\n",
    "    .reset_index().drop('time', axis = 1).groupby('neighborhood').last()\n",
    "    \n",
    "neighb_crime_level['crime_level'] = (neighb_crime_level['total_crime'] / city_crime_level).map(get_crime_level_description)\n",
    "\n",
    "neighb_crime_level = neighb_crime_level.drop('total_crime', axis = 1)"
   ]
  },
  {
   "cell_type": "code",
   "execution_count": null,
   "metadata": {},
   "outputs": [],
   "source": [
    "neighb_crime_level.reset_index().groupby('crime_level').count()"
   ]
  },
  {
   "cell_type": "markdown",
   "metadata": {},
   "source": [
    "#### Value: Long term crime trend (Flat/Decrease)\n",
    "\n",
    "There are virtually no neighborhoods whose long term crime increased. So, instead lets see how over all history crime has changed. If it's stayed relatively flat (i.e. < 25% decrease), call it flat."
   ]
  },
  {
   "cell_type": "code",
   "execution_count": null,
   "metadata": {
    "collapsed": true
   },
   "outputs": [],
   "source": [
    "neighb_long_term_crime_trend = pd.DataFrame({'total_crime' : neighb_crimes_percapita.sum(axis = 1)})\\\n",
    "    .reset_index().groupby('neighborhood')\\\n",
    "    .agg(['first', 'last'])['total_crime']\n",
    "    \n",
    "neighb_long_term_crime_trend['long_term_crime'] = np.where(\n",
    "    neighb_long_term_crime_trend['first']/neighb_long_term_crime_trend['last'] - 1 < 0.25,\n",
    "    'flat',\n",
    "    'decrease'\n",
    ")\n",
    "\n",
    "neighb_long_term_crime_trend = neighb_long_term_crime_trend[['long_term_crime']]"
   ]
  },
  {
   "cell_type": "code",
   "execution_count": null,
   "metadata": {},
   "outputs": [],
   "source": [
    "neighb_long_term_crime_trend.reset_index().groupby('long_term_crime').count()"
   ]
  },
  {
   "cell_type": "markdown",
   "metadata": {},
   "source": [
    "#### Value: Change Relative to Chicago Mean\n",
    "\n",
    "Look at how the neighborhood has changed relative to the Chicago mean -- this informs inequality"
   ]
  },
  {
   "cell_type": "code",
   "execution_count": null,
   "metadata": {
    "collapsed": true
   },
   "outputs": [],
   "source": [
    "def get_crime_chg_rel_mean_classification(change, change_thresh = 0.075):\n",
    "    if change < -change_thresh:\n",
    "        return 'decrease'\n",
    "    elif change > change_thresh:\n",
    "        return 'increase'\n",
    "    else:\n",
    "        return 'flat'"
   ]
  },
  {
   "cell_type": "code",
   "execution_count": null,
   "metadata": {},
   "outputs": [],
   "source": [
    "ref_date = '2002-01'\n",
    "end_date = '2017-01'\n",
    "\n",
    "neighb_chg_rel_mean = pd.DataFrame({'total_crime' : neighb_crimes_percapita.sum(axis = 1)}).join(\n",
    "    pd.DataFrame({'city_crime' : chicago_crimes_percapita.sum(axis = 1)})\n",
    ").loc[pd.IndexSlice[:, [ref_date, end_date]], :]\n",
    "\n",
    "neighb_chg_rel_mean['crime_rel_mean'] = neighb_chg_rel_mean['total_crime']/neighb_chg_rel_mean['city_crime'] - 1\n",
    "\n",
    "neighb_chg_rel_mean = neighb_chg_rel_mean.reset_index()\\\n",
    "    .pivot_table(index = 'neighborhood', columns = 'time', values = 'crime_rel_mean')\n",
    "    \n",
    "neighb_chg_rel_mean.columns = neighb_chg_rel_mean.columns.map(str)\n",
    "\n",
    "neighb_chg_rel_mean['long_term_chg_to_mean_value'] = \\\n",
    "    neighb_chg_rel_mean[end_date] - neighb_chg_rel_mean[ref_date]\n",
    "\n",
    "neighb_chg_rel_mean['long_term_chg_to_mean'] = \\\n",
    "    neighb_chg_rel_mean['long_term_chg_to_mean_value'].map(get_crime_chg_rel_mean_classification)\n",
    "\n",
    "#neighb_chg_rel_mean = neighb_chg_rel_mean[['long_term_chg_to_median', 'long_term_chg_to_median_value']]\n",
    "neighb_chg_rel_mean = neighb_chg_rel_mean[['long_term_chg_to_mean']]"
   ]
  },
  {
   "cell_type": "code",
   "execution_count": null,
   "metadata": {},
   "outputs": [],
   "source": [
    "neighb_chg_rel_mean.reset_index().groupby('long_term_chg_to_mean').count()"
   ]
  },
  {
   "cell_type": "markdown",
   "metadata": {},
   "source": [
    "#### Value: Contribution to Inequality (Increase/None/Decrease)\n",
    "\n",
    "Look at how crime concentrations are now compared to early 2000's. If inequality reduces, then the mean crime should move closer to city median. That is: (crime level) / (city crime level) moves closer to 1.\n",
    "\n",
    "Practically, we say if something has changed by more than 10% rel to city median away from 1, then it increased inequality (and converse for decrease). Otherwise, we say no effect."
   ]
  },
  {
   "cell_type": "code",
   "execution_count": null,
   "metadata": {
    "collapsed": true
   },
   "outputs": [],
   "source": [
    "def get_crime_classification(ref_crime, end_crime, change_thresh = 0.1):\n",
    "    change = end_crime - ref_crime\n",
    "    if ref_crime < 1 - change_thresh:\n",
    "        if change < -change_thresh:\n",
    "            return 'increase'\n",
    "        elif change > change_thresh:\n",
    "            return 'decrease'\n",
    "    if ref_crime > 1 + change_thresh:\n",
    "        if change < -change_thresh:\n",
    "            return 'decrease'\n",
    "        elif change > change_thresh:\n",
    "            return 'increase'\n",
    "    return 'none'"
   ]
  },
  {
   "cell_type": "code",
   "execution_count": null,
   "metadata": {
    "collapsed": true
   },
   "outputs": [],
   "source": [
    "ref_date = '2002-01'\n",
    "end_date = '2017-01'\n",
    "\n",
    "neighb_ineq_contr = pd.DataFrame({'total_crime' : neighb_crimes_percapita.sum(axis = 1)}).join(\n",
    "    pd.DataFrame({'city_crime' : chicago_crimes_percapita.sum(axis = 1)})\n",
    ").loc[pd.IndexSlice[:, [ref_date, end_date]], :]\n",
    "\n",
    "neighb_ineq_contr['pct_city_crime'] = neighb_ineq_contr['total_crime'] / neighb_ineq_contr['city_crime']\n",
    "\n",
    "neighb_ineq_contr = neighb_ineq_contr.reset_index()\\\n",
    "    .pivot_table(index = 'neighborhood', columns = 'time', values = 'pct_city_crime')\n",
    "    \n",
    "neighb_ineq_contr.columns = neighb_ineq_contr.columns.map(str)\n",
    "\n",
    "neighb_ineq_contr['inequality_contribution'] = neighb_ineq_contr\\\n",
    "    .apply(lambda row: get_crime_classification(row[ref_date], row[end_date]), axis = 1)\n",
    "    \n",
    "neighb_ineq_contr = neighb_ineq_contr[['inequality_contribution']]"
   ]
  },
  {
   "cell_type": "code",
   "execution_count": null,
   "metadata": {},
   "outputs": [],
   "source": [
    "neighb_ineq_contr.reset_index().groupby('inequality_contribution').count()"
   ]
  },
  {
   "cell_type": "markdown",
   "metadata": {},
   "source": [
    "#### Value: Elevated Crime Category (Property/Violent/None)\n",
    "\n",
    "If a significant category has an elevated level relative to the city, take note. The category is noted if its fraction of total crime is >10% the city mean."
   ]
  },
  {
   "cell_type": "code",
   "execution_count": null,
   "metadata": {
    "collapsed": true
   },
   "outputs": [],
   "source": [
    "city_crime_elevation_ref = chicago_crimes_percapita.sum(axis = 1, level = 0).tail(1)\n",
    "city_crime_elevation_ref /= city_crime_elevation_ref.sum(axis = 1)[0]\n",
    "city_crime_elevation_ref = city_crime_elevation_ref.iloc[0].transpose().to_dict()"
   ]
  },
  {
   "cell_type": "code",
   "execution_count": null,
   "metadata": {
    "collapsed": true
   },
   "outputs": [],
   "source": [
    "def find_elevated_category(row, city_dict, elev_thresh = 0.05):\n",
    "    row_dict = row.to_dict()\n",
    "    biggest_diff = sorted([ [row_dict[key] - city_dict[key], key] for key in row_dict if key != 'Society'])[-1]\n",
    "    if biggest_diff[0] > elev_thresh:\n",
    "        return biggest_diff[1]\n",
    "    else:\n",
    "        return 'None' "
   ]
  },
  {
   "cell_type": "code",
   "execution_count": null,
   "metadata": {
    "collapsed": true
   },
   "outputs": [],
   "source": [
    "neighb_crime_elevation = neighb_crimes_percapita.sum(axis = 1, level = 0)\\\n",
    "    .reset_index().drop('time', axis = 1).groupby('neighborhood').last()\n",
    "    \n",
    "neighb_crime_elevation = neighb_crime_elevation.div(neighb_crime_elevation.sum(axis = 1), axis = 0)\n",
    "\n",
    "neighb_crime_elevation['elevated_category'] = \\\n",
    "    neighb_crime_elevation.apply(lambda row: find_elevated_category(row, city_crime_elevation_ref), axis = 1)\n",
    "    \n",
    "neighb_crime_elevation = neighb_crime_elevation[['elevated_category']]"
   ]
  },
  {
   "cell_type": "markdown",
   "metadata": {},
   "source": [
    "#### Value: Median Income Change (LargeIncrease/Increase/Flat/Decrease)\n",
    "\n",
    "Whether median incomes have decreased at all (decrease), increased by <5k (flat), increased by 5-15k (increase) or increased by more than 15k (large increase)\n",
    "\n",
    "Note that this does NOT account for inflation, which should be ~30% (!!!) Note that the trend of median incomes rising slower than inflation is national, but outside the scope of this study."
   ]
  },
  {
   "cell_type": "code",
   "execution_count": null,
   "metadata": {
    "collapsed": true
   },
   "outputs": [],
   "source": [
    "def get_income_change_class(income_diff, diff_thresh = 5000, large_diff_thresh = 15000):\n",
    "    if income_diff < 0:\n",
    "        return 'decrease'\n",
    "    elif income_diff < diff_thresh:\n",
    "        return 'flat'\n",
    "    elif income_diff < large_diff_thresh:\n",
    "        return 'increase'\n",
    "    else:\n",
    "        return 'large increase'"
   ]
  },
  {
   "cell_type": "code",
   "execution_count": null,
   "metadata": {
    "collapsed": true
   },
   "outputs": [],
   "source": [
    "ref_date = '2002-01'\n",
    "end_date = '2017-01'\n",
    "\n",
    "neighb_median_income_change = (\\\n",
    "    neighb_incomes[neighb_incomes['time'].map(str) == end_date].set_index('neighborhood') -\\\n",
    "    neighb_incomes[neighb_incomes['time'].map(str) == ref_date].set_index('neighborhood')\n",
    ")[['median_income']].rename(columns = {'median_income' : 'median_income_net_chg'})\n",
    "\n",
    "neighb_median_income_change['income_change'] = neighb_median_income_change['median_income_net_chg']\\\n",
    "    .map(get_income_change_class)\n",
    "    \n",
    "neighb_median_income_change = neighb_median_income_change[['income_change']]"
   ]
  },
  {
   "cell_type": "code",
   "execution_count": null,
   "metadata": {},
   "outputs": [],
   "source": [
    "neighb_median_income_change.reset_index().groupby('income_change').count()"
   ]
  },
  {
   "cell_type": "markdown",
   "metadata": {},
   "source": [
    "#### Value: Population Change (Growing/Flat/Declining)\n",
    "\n",
    "Buckets: \\> 5% drop means declining, 5% drop to 5% increase is flat, otherwise increasing"
   ]
  },
  {
   "cell_type": "code",
   "execution_count": null,
   "metadata": {
    "collapsed": true
   },
   "outputs": [],
   "source": [
    "def get_pop_change_class(pop_pct_change, pop_thresh = 0.075):\n",
    "    if pop_pct_change < 0:\n",
    "        return 'declining'\n",
    "    elif pop_pct_change < pop_thresh:\n",
    "        return 'flat'\n",
    "    else:\n",
    "        return 'growing'"
   ]
  },
  {
   "cell_type": "code",
   "execution_count": null,
   "metadata": {
    "collapsed": true
   },
   "outputs": [],
   "source": [
    "ref_date = '2002-01'\n",
    "end_date = '2017-01'\n",
    "\n",
    "neighb_population_change = (\\\n",
    "    1 - \n",
    "    neighb_population[neighb_incomes['time'].map(str) == end_date].set_index('neighborhood')[['population']]/ \\\n",
    "    neighb_population[neighb_incomes['time'].map(str) == ref_date].set_index('neighborhood')[['population']]\n",
    ").rename(columns = {'population' : 'pct_population_change'})\n",
    "\n",
    "neighb_population_change['population_change'] = neighb_population_change['pct_population_change']\\\n",
    "    .map(get_pop_change_class)\n",
    "    \n",
    "neighb_population_change = neighb_population_change[['population_change']]"
   ]
  },
  {
   "cell_type": "code",
   "execution_count": null,
   "metadata": {},
   "outputs": [],
   "source": [
    "neighb_population_change.reset_index().groupby('population_change').count()"
   ]
  },
  {
   "cell_type": "markdown",
   "metadata": {},
   "source": [
    "#### Value: Recent vs Long term -- is there an uptick?\n",
    "\n",
    "Compare the 3 year moving average to the endpoint. If endpoint > 3yr avg + thresh, then call it an uptick. Crime is generally decreasing so recent upticks are really the only features worth mentioning."
   ]
  },
  {
   "cell_type": "code",
   "execution_count": null,
   "metadata": {
    "collapsed": true
   },
   "outputs": [],
   "source": [
    "def get_uptick_class(endpoint, recent_avg, uptick_thresh = 0.01):\n",
    "    return 'none' if endpoint - recent_avg < uptick_thresh else 'uptick'"
   ]
  },
  {
   "cell_type": "code",
   "execution_count": null,
   "metadata": {
    "collapsed": true
   },
   "outputs": [],
   "source": [
    "years_for_ma = 2\n",
    "\n",
    "neighb_uptick = pd.DataFrame({'total_crime' : neighb_crimes_percapita.sum(axis = 1)})\\\n",
    "    .reset_index().groupby('neighborhood')\\\n",
    "    .tail(years_for_ma * 12)\\\n",
    "    .groupby('neighborhood')\\\n",
    "    .agg(['last', 'mean'])['total_crime']\\\n",
    "    .rename(columns = {'last' : 'endpoint', 'mean' : 'recent_moving_avg'})\n",
    "    \n",
    "neighb_uptick['uptick'] = neighb_uptick\\\n",
    "    .apply(lambda row: get_uptick_class(row['endpoint'], row['recent_moving_avg']), axis = 1)\n",
    "\n",
    "neighb_uptick = neighb_uptick[['uptick']]"
   ]
  },
  {
   "cell_type": "code",
   "execution_count": null,
   "metadata": {},
   "outputs": [],
   "source": [
    "neighb_uptick.reset_index().groupby('uptick').count()"
   ]
  },
  {
   "cell_type": "markdown",
   "metadata": {},
   "source": [
    "#### Neighborhood population for weighting"
   ]
  },
  {
   "cell_type": "code",
   "execution_count": null,
   "metadata": {
    "collapsed": true
   },
   "outputs": [],
   "source": [
    "neighb_pop_feature_weight = neighb_population.groupby('neighborhood').last()[['population']]"
   ]
  },
  {
   "cell_type": "markdown",
   "metadata": {},
   "source": [
    "### Putting it all together"
   ]
  },
  {
   "cell_type": "code",
   "execution_count": null,
   "metadata": {
    "collapsed": true
   },
   "outputs": [],
   "source": [
    "neighborhood_map_features = pd.concat([\n",
    "    neighb_primary_race,\n",
    "    neighb_income_profile,\n",
    "    neighb_crime_level,\n",
    "    neighb_long_term_crime_trend,\n",
    "    neighb_chg_rel_mean,\n",
    "    neighb_ineq_contr,\n",
    "    neighb_crime_elevation,\n",
    "    neighb_median_income_change,\n",
    "    neighb_population_change,\n",
    "    neighb_uptick,\n",
    "    neighb_pop_feature_weight\n",
    "], axis = 1)"
   ]
  },
  {
   "cell_type": "code",
   "execution_count": null,
   "metadata": {},
   "outputs": [],
   "source": [
    "neighborhood_map_features\\\n",
    "    .pivot_table(index = 'crime_level', columns = 'long_term_chg_to_mean', aggfunc = 'count')\\\n",
    "    ['elevated_category']\n",
    "    #.loc[['low', 'high']]['elevated_category']"
   ]
  },
  {
   "cell_type": "code",
   "execution_count": null,
   "metadata": {},
   "outputs": [],
   "source": [
    "neighborhood_map_features.head()"
   ]
  },
  {
   "cell_type": "markdown",
   "metadata": {},
   "source": [
    "## Associating key measurements with geoJSON\n",
    "\n",
    "Here we associate things like total crime, etc. with each neighborhood's geographic. This is so that we can easily visualize via geoJSON stories throughout the city."
   ]
  },
  {
   "cell_type": "code",
   "execution_count": null,
   "metadata": {
    "collapsed": true
   },
   "outputs": [],
   "source": [
    "chicago_geo = gpd.read_file('./data/chicago_commarea_geo_data.json')\\\n",
    "    .drop(['area', 'shape_area', 'perimeter', 'area_num_1', 'area_numbe', 'comarea_id', 'comarea', 'shape_len'],\n",
    "          axis = 1)"
   ]
  },
  {
   "cell_type": "code",
   "execution_count": null,
   "metadata": {},
   "outputs": [],
   "source": [
    "chicago_geo.plot()\n",
    "plt.show()"
   ]
  },
  {
   "cell_type": "code",
   "execution_count": null,
   "metadata": {},
   "outputs": [],
   "source": [
    "chicago_geo.head()"
   ]
  },
  {
   "cell_type": "code",
   "execution_count": null,
   "metadata": {
    "collapsed": true
   },
   "outputs": [],
   "source": [
    "x = chicago_geo['geometry'][0]"
   ]
  },
  {
   "cell_type": "code",
   "execution_count": null,
   "metadata": {
    "collapsed": true
   },
   "outputs": [],
   "source": [
    "early_yr = 2002\n",
    "early_yr_percapita = neighb_crimes_percapita.loc[pd.IndexSlice[:, str(early_yr)+'-01'], :]\n",
    "early_yr_for_join = early_yr_percapita.sum(axis = 1)\\\n",
    "    .reset_index()\\\n",
    "    .drop('time', axis = 1)\\\n",
    "    .rename(columns = {'neighborhood' : 'community', 0 : 'crime_intensity_' + str(early_yr)})"
   ]
  },
  {
   "cell_type": "code",
   "execution_count": null,
   "metadata": {
    "collapsed": true
   },
   "outputs": [],
   "source": [
    "latest_yr = neighb_crimes_percapita.index.levels[1].year.max()\n",
    "latest_yr_percapita = neighb_crimes_percapita.loc[pd.IndexSlice[:, str(latest_yr)+'-01'], :]\n",
    "latest_yr_for_join = latest_yr_percapita.sum(axis = 1)\\\n",
    "    .reset_index()\\\n",
    "    .drop('time', axis = 1)\\\n",
    "    .rename(columns = {'neighborhood' : 'community', 0 : 'crime_intensity_' + str(latest_yr)})"
   ]
  },
  {
   "cell_type": "markdown",
   "metadata": {},
   "source": [
    "### Attach features we want at the community level"
   ]
  },
  {
   "cell_type": "code",
   "execution_count": null,
   "metadata": {
    "collapsed": true
   },
   "outputs": [],
   "source": [
    "chicago_geo_annot = pd.merge(chicago_geo, early_yr_for_join, on = 'community')\n",
    "chicago_geo_annot = pd.merge(chicago_geo_annot, latest_yr_for_join, on = 'community')\n",
    "chicago_geo_annot = pd.merge(\n",
    "    chicago_geo_annot, \n",
    "    neighborhood_map_features.reset_index().rename(columns = {'index': 'community'}),\n",
    "    on = 'community'\n",
    ")"
   ]
  },
  {
   "cell_type": "markdown",
   "metadata": {},
   "source": [
    "### Create a version with centroids instead of boundaries"
   ]
  },
  {
   "cell_type": "code",
   "execution_count": null,
   "metadata": {
    "collapsed": true
   },
   "outputs": [],
   "source": [
    "chicago_centroid_annot = chicago_geo_annot.copy()\n",
    "chicago_centroid_annot['geometry'] = chicago_centroid_annot['geometry'].map(lambda geo: geo.centroid)"
   ]
  },
  {
   "cell_type": "markdown",
   "metadata": {},
   "source": [
    "### Take a look"
   ]
  },
  {
   "cell_type": "code",
   "execution_count": null,
   "metadata": {},
   "outputs": [],
   "source": [
    "chicago_geo_annot.plot(column = 'crime_intensity_2002', legend = True, vmin = 0, vmax = 0.6)\n",
    "plt.title('crime intensity')\n",
    "plt.show()"
   ]
  },
  {
   "cell_type": "code",
   "execution_count": null,
   "metadata": {},
   "outputs": [],
   "source": [
    "chicago_geo_annot.plot(column = 'crime_intensity_2017', legend = True, vmin = 0, vmax = 0.6)\n",
    "plt.title('crime intensity')\n",
    "plt.show()"
   ]
  },
  {
   "cell_type": "markdown",
   "metadata": {},
   "source": [
    "## Outputs\n",
    "\n",
    "TODO: \n",
    "* Update description\n",
    "* Abstract outputs w/ yr filtering and output path\n",
    "\n",
    "Finally we will save key outputs the analyses above for d3 visualization upstream\n",
    "\n",
    "For the city-wide data, we store monthly timeseries aggregates\n",
    "\n",
    "For the neighborhood information, we store a geojson whose attributes contain things like timeseries\n",
    "\n",
    "We additionally produce \"other\" outputs:\n",
    "* Crime severity \n",
    "* Gini curve"
   ]
  },
  {
   "cell_type": "code",
   "execution_count": null,
   "metadata": {
    "collapsed": true
   },
   "outputs": [],
   "source": [
    "start_year = 2002"
   ]
  },
  {
   "cell_type": "code",
   "execution_count": null,
   "metadata": {
    "collapsed": true
   },
   "outputs": [],
   "source": [
    "# crime type output\n",
    "chicago_crimes_percapita_crimetype_out = chicago_crimes_percapita.sum(axis = 1, level = 0).reset_index()\n",
    "chicago_crimes_percapita_crimetype_out = chicago_crimes_percapita_crimetype_out[\n",
    "    chicago_crimes_percapita_crimetype_out['time'].dt.year >= start_year\n",
    "]\n",
    "chicago_crimes_percapita_crimetype_out.to_csv('./microblog/app/static/data/chicago_crimes_percapita_crimetype.csv', \n",
    "                                              index=False)"
   ]
  },
  {
   "cell_type": "code",
   "execution_count": null,
   "metadata": {
    "collapsed": true
   },
   "outputs": [],
   "source": [
    "# crime detail / description level output\n",
    "chicago_crimes_percapita_crimelevel_out = \\\n",
    "    pd.melt(chicago_crimes_percapita.reset_index(), id_vars=['time'], value_name='crime_intensity')\n",
    "chicago_crimes_percapita_crimelevel_out = chicago_crimes_percapita_crimelevel_out[\n",
    "    chicago_crimes_percapita_crimelevel_out['time'].dt.year >= start_year\n",
    "]\n",
    "chicago_crimes_percapita_crimelevel_out.to_csv('./microblog/app/static/data/chicago_crimes_percapita_crimelevel.csv',\n",
    "                                               index = False)"
   ]
  },
  {
   "cell_type": "code",
   "execution_count": null,
   "metadata": {},
   "outputs": [],
   "source": [
    "# number of crimes in worst x% output\n",
    "crime_top_bot_out = crime_top_bot.copy()\n",
    "crime_top_bot_out = crime_top_bot_out[\n",
    "    crime_top_bot_out.index.map(lambda x: x.year) >= start_year\n",
    "]\n",
    "for crime_type in crime_top_bot_out.columns.levels[0]:\n",
    "    crime_top_bot_out[crime_type].reset_index()\\\n",
    "        .to_csv('./microblog/app/static/data/' + crime_type +\\\n",
    "                '_crimes_top_bot_' + str(round(100*top_pct_consider)) + '.csv',\n",
    "                index = False)"
   ]
  },
  {
   "cell_type": "code",
   "execution_count": null,
   "metadata": {
    "collapsed": true
   },
   "outputs": [],
   "source": [
    "# neighborhood crime aggregates over time -- include city of chicago_\n",
    "\n",
    "neighb_crimes_percapita_out = neighb_crimes_percapita.sum(axis = 1).reset_index()\\\n",
    "    .rename(columns = {0 : 'neighb_crime_intensity'})\n",
    "neighb_crimes_percapita_out = neighb_crimes_percapita_out[\n",
    "    neighb_crimes_percapita_out['time'].dt.year >= start_year\n",
    "]\n",
    "neighb_crimes_percapita_out = neighb_crimes_percapita_out\\\n",
    "    .pivot_table(index = 'time', columns = 'neighborhood', values = 'neighb_crime_intensity')\n",
    "    \n",
    "# chicago total intensity for join\n",
    "neighb_crimes_city_reference_out = pd.DataFrame({'city_crime_intensity' : chicago_crimes_percapita.sum(axis = 1)})\n",
    "\n",
    "# create directory if doesn't exist\n",
    "neighb_intensity_directory = os.path.dirname('./microblog/app/static/data/neighb_intensity/')\n",
    "if not os.path.exists(neighb_intensity_directory):\n",
    "    os.makedirs(neighb_intensity_directory)\n",
    "    \n",
    "for neighb in neighb_crimes_percapita_out:\n",
    "    temp_neighb_intensity_out = neighb_crimes_percapita_out[[neighb]]\\\n",
    "        .join(neighb_crimes_city_reference_out)\\\n",
    "        .rename(columns = {neighb : 'neighb_crime_intensity'})\\\n",
    "        .reset_index()\n",
    "    temp_neighb_intensity_out.to_csv(neighb_intensity_directory + '/' + neighb + '_intensity.csv', index = False)"
   ]
  },
  {
   "cell_type": "code",
   "execution_count": null,
   "metadata": {
    "collapsed": true
   },
   "outputs": [],
   "source": [
    "# geo-tagged measurements\n",
    "geo_out_name = './microblog/app/static/data/chicago_geo.json'\n",
    "centroid_out_name = './microblog/app/static/data/chicago_centroid.json'\n",
    "if os.path.isfile(geo_out_name):\n",
    "    os.remove(geo_out_name) # remove b/c rewrite bug in geopandas\n",
    "chicago_geo_annot.to_file(geo_out_name, driver = 'GeoJSON')\n",
    "if os.path.isfile(centroid_out_name):\n",
    "    os.remove(centroid_out_name) # remove b/c rewrite bug in geopandas\n",
    "chicago_centroid_annot.to_file(centroid_out_name, driver = 'GeoJSON')"
   ]
  },
  {
   "cell_type": "code",
   "execution_count": null,
   "metadata": {
    "collapsed": true
   },
   "outputs": [],
   "source": []
  }
 ],
 "metadata": {
  "kernelspec": {
   "display_name": "Python 3",
   "language": "python",
   "name": "python3"
  },
  "language_info": {
   "codemirror_mode": {
    "name": "ipython",
    "version": 3
   },
   "file_extension": ".py",
   "mimetype": "text/x-python",
   "name": "python",
   "nbconvert_exporter": "python",
   "pygments_lexer": "ipython3",
   "version": "3.6.3"
  }
 },
 "nbformat": 4,
 "nbformat_minor": 2
}
