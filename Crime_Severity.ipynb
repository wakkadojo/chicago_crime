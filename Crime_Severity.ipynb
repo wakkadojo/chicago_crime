{
 "cells": [
  {
   "cell_type": "markdown",
   "metadata": {},
   "source": [
    "# Inputs to crime severity from scraped sources\n",
    "\n",
    "TODO: REVISE\n",
    "\n",
    "Not every crime is created equal, so when gauging the \"amount\" of crime in aggregate, we need an appropriate weighting. This severity weighting can be measured in many ways, here we adopt an approach where we presume the punishment as according to the law appropriately classifies the severity of a crime.\n",
    "\n",
    "Due to limited readily available data, we use punishment data in IL from 2000 as specified in http://www.crimeandpunishment.net/IL/chart.html. Note we could attempt to get actual sentencing per crime by requesting the data from the Cook County Circuit Court, but that process will take time and has the possibility of yielding limited results. This weighting factor is not meant to be exact, but just by-and-large reasonable.\n",
    "\n",
    "The crime severity will be at the IUCR level, which we obtain by mapping ILCS data to IUCR codes. Each IUCR will have a low and high range for fines and prison sentences. IUCR to ILCS mappings are obtained from https://github.com/sc3/python-iucr/blob/master/iucr/data/ilcs2iucr.csv."
   ]
  },
  {
   "cell_type": "code",
   "execution_count": 27,
   "metadata": {
    "collapsed": true
   },
   "outputs": [],
   "source": [
    "import pandas as pd\n",
    "import requests\n",
    "import numpy as np\n",
    "import io\n",
    "import re\n",
    "import matplotlib.pyplot as plt\n",
    "import seaborn as sns\n",
    "\n",
    "%matplotlib inline"
   ]
  },
  {
   "cell_type": "markdown",
   "metadata": {},
   "source": [
    "## Crime severity according to 2005-2009 convictions"
   ]
  },
  {
   "cell_type": "code",
   "execution_count": 28,
   "metadata": {
    "collapsed": true
   },
   "outputs": [],
   "source": [
    "humble_factor_for_non_prison_sentence = 0.1"
   ]
  },
  {
   "cell_type": "code",
   "execution_count": 29,
   "metadata": {
    "collapsed": true
   },
   "outputs": [],
   "source": [
    "from external_lib import statute"
   ]
  },
  {
   "cell_type": "code",
   "execution_count": 30,
   "metadata": {
    "collapsed": true
   },
   "outputs": [],
   "source": [
    "crime_convictions = pd.read_csv('./data/cook_county_conviction_records__2005_2009.csv')"
   ]
  },
  {
   "cell_type": "code",
   "execution_count": 31,
   "metadata": {},
   "outputs": [
    {
     "data": {
      "text/plain": [
       "Index(['case_number', 'sequence_number', 'st_address', 'city', 'state',\n",
       "       'zipcode', 'arrest_date', 'initial_date', 'sex', 'statute', 'chrgdesc',\n",
       "       'chrgtype', 'chrgtype2', 'chrgclass', 'chrgdisp', 'chrgdispdate',\n",
       "       'ammndchargstatute', 'ammndchrgdescr', 'ammndchrgtype',\n",
       "       'ammndchrgclass', 'minsent_years', 'minsent_months', 'minsent_days',\n",
       "       'minsent_life', 'minsent_death', 'maxsent_years', 'maxsent_months',\n",
       "       'maxsent_days', 'maxsent_life', 'maxsent_death', 'amtoffine'],\n",
       "      dtype='object')"
      ]
     },
     "execution_count": 31,
     "metadata": {},
     "output_type": "execute_result"
    }
   ],
   "source": [
    "crime_convictions.columns"
   ]
  },
  {
   "cell_type": "code",
   "execution_count": 32,
   "metadata": {},
   "outputs": [
    {
     "data": {
      "text/plain": [
       "chrgdisp\n",
       "COND DISCH AND OTHER DISC COND       271\n",
       "CREDIT DEFENDANT FOR TIME SERV    109213\n",
       "DEF SENT CCDOC, PERIODIC IMP          18\n",
       "DEF SENT CONDITIONAL DISCHARGE      2211\n",
       "DEF SENT TO HOME CONFINEMENT         298\n",
       "DEF SENT TO INDETERMINATE TERM         6\n",
       "DEF SENT TO LIFE IMPRISONMENT        346\n",
       "DEF SENT TO PAY RESTITUTION         4214\n",
       "DEF SENTENCED ILLINOIS DOC        101995\n",
       "DEF SENTENCED TO COOK CNTY DOC     19827\n",
       "DEF SENTENCED TO DEATH                 8\n",
       "DEF SENTENCED TO PROBATION         42445\n",
       "ELIGIBLE IMPACT PROG-BOOT CAMP      3075\n",
       "PROB AND OTHER DISC CONDS          22724\n",
       "SENT PER IMP + OTH DISC COND          10\n",
       "SENT/CRT SUPV-SOC SERV-SPC CND        37\n",
       "SENT/CRT SUPV/SPEC CONDS             116\n",
       "SENTENCED CCDOC BOOT CAMP           4460\n",
       "SENTENCED TO COMMUNITY SERVICE     10103\n",
       "SUPERVISION - SOCIAL SERV DEPT       213\n",
       "Name: case_number, dtype: int64"
      ]
     },
     "execution_count": 32,
     "metadata": {},
     "output_type": "execute_result"
    }
   ],
   "source": [
    "# types of crimes\n",
    "crime_convictions.groupby('chrgdisp').count()['case_number']"
   ]
  },
  {
   "cell_type": "code",
   "execution_count": 33,
   "metadata": {
    "collapsed": true
   },
   "outputs": [],
   "source": [
    "crime_convictions_no_credit = crime_convictions[~crime_convictions['chrgdisp'].str.contains('CREDIT')]"
   ]
  },
  {
   "cell_type": "code",
   "execution_count": 34,
   "metadata": {
    "collapsed": true
   },
   "outputs": [],
   "source": [
    "def parse_code(cd):\n",
    "    try:\n",
    "        return statute.parse_statute(' '.join(cd.split()))\n",
    "    except:\n",
    "        return []\n",
    "    \n",
    "def parse_iucr(cd):\n",
    "    try:\n",
    "        return statute.get_iucr(statute.parse_statute(' '.join(cd.split())))\n",
    "    except:\n",
    "        return []"
   ]
  },
  {
   "cell_type": "code",
   "execution_count": 35,
   "metadata": {
    "collapsed": true
   },
   "outputs": [],
   "source": [
    "def parse_term(days, months, yrs, life_sent):\n",
    "    return days / 360 + months / 12 + yrs + (80 if life_sent else 0)\n",
    "\n",
    "def humbled_term(days, months, yrs, life_sent, chrgdisp):\n",
    "    humble_factor = \\\n",
    "        1.0 if chrgdisp in ['DEF SENTENCED TO COOK CNTY DOC', 'DEF SENTENCED ILLINOIS DOC',\n",
    "                            'DEF SENT TO LIFE IMPRISONMENT', 'DEF SENTENCED TO DEATH']\\\n",
    "        else humble_factor_for_non_prison_sentence\n",
    "    return parse_term(days, months, yrs, life_sent) * humble_factor"
   ]
  },
  {
   "cell_type": "code",
   "execution_count": 36,
   "metadata": {
    "collapsed": true
   },
   "outputs": [],
   "source": [
    "parsed_convictions_degenerate_rows = crime_convictions_no_credit.copy()[['statute']]\n",
    "parsed_convictions_degenerate_rows['statute'] = parsed_convictions_degenerate_rows['statute'].map(parse_iucr)"
   ]
  },
  {
   "cell_type": "code",
   "execution_count": 37,
   "metadata": {
    "collapsed": true
   },
   "outputs": [],
   "source": [
    "parsed_convictions_degenerate_rows['min_sent'] =\\\n",
    "    crime_convictions_no_credit[['minsent_days', 'minsent_months', 'minsent_years', 'minsent_life', 'chrgdisp']]\\\n",
    "    .apply(lambda row: humbled_term(*row), axis = 1)\n",
    "# humble all non - imprisonment sentences"
   ]
  },
  {
   "cell_type": "code",
   "execution_count": 38,
   "metadata": {
    "collapsed": true
   },
   "outputs": [],
   "source": [
    "parsed_convictions_degenerate_rows['max_sent'] =\\\n",
    "    crime_convictions_no_credit[['maxsent_days', 'maxsent_months', 'maxsent_years', 'maxsent_life', 'chrgdisp']]\\\n",
    "    .apply(lambda row: humbled_term(*row), axis = 1)"
   ]
  },
  {
   "cell_type": "markdown",
   "metadata": {},
   "source": [
    "Split the degenerate IUCR codes to their own rows.\n",
    "\n",
    "Note that some convictions have unreasonably large values (999) or missing convictions (NaN), lets cut those out"
   ]
  },
  {
   "cell_type": "code",
   "execution_count": 39,
   "metadata": {
    "collapsed": true
   },
   "outputs": [],
   "source": [
    "iucr_row_split = [ [offense.code] + list(row[1:])\\\n",
    "                   for row in parsed_convictions_degenerate_rows.values for offense in row[0] ]"
   ]
  },
  {
   "cell_type": "code",
   "execution_count": 40,
   "metadata": {
    "collapsed": true
   },
   "outputs": [],
   "source": [
    "parsed_convictions = pd.DataFrame(iucr_row_split)\n",
    "parsed_convictions.columns = ['iucr', 'minsent_yrs', 'maxsent_yrs']\n",
    "parsed_convictions['iucr_category'] = parsed_convictions['iucr'].str[:2]\n",
    "parsed_convictions = parsed_convictions[(parsed_convictions['minsent_yrs'] < 100) &\\\n",
    "                                        ~parsed_convictions['minsent_yrs'].isnull()]\n",
    "# Include category-level for matching later on. IUCR categories are defined by the first 2 digits in the IUCR code\n",
    "parsed_convictions_category_level = parsed_convictions.copy()\n",
    "parsed_convictions_category_level['iucr'] = parsed_convictions_category_level['iucr'].str[:2] + 'XX'\n",
    "parsed_convictions = pd.concat([parsed_convictions, parsed_convictions_category_level])"
   ]
  },
  {
   "cell_type": "code",
   "execution_count": 41,
   "metadata": {
    "collapsed": true
   },
   "outputs": [],
   "source": [
    "parsed_convictions_minsent = parsed_convictions.groupby('iucr')['minsent_yrs']\\\n",
    "    .agg(['mean', 'median', 'min', 'max'])"
   ]
  },
  {
   "cell_type": "code",
   "execution_count": 42,
   "metadata": {},
   "outputs": [
    {
     "data": {
      "text/html": [
       "<div>\n",
       "<style>\n",
       "    .dataframe thead tr:only-child th {\n",
       "        text-align: right;\n",
       "    }\n",
       "\n",
       "    .dataframe thead th {\n",
       "        text-align: left;\n",
       "    }\n",
       "\n",
       "    .dataframe tbody tr th {\n",
       "        vertical-align: top;\n",
       "    }\n",
       "</style>\n",
       "<table border=\"1\" class=\"dataframe\">\n",
       "  <thead>\n",
       "    <tr style=\"text-align: right;\">\n",
       "      <th></th>\n",
       "      <th>mean</th>\n",
       "      <th>median</th>\n",
       "      <th>min</th>\n",
       "      <th>max</th>\n",
       "    </tr>\n",
       "    <tr>\n",
       "      <th>iucr</th>\n",
       "      <th></th>\n",
       "      <th></th>\n",
       "      <th></th>\n",
       "      <th></th>\n",
       "    </tr>\n",
       "  </thead>\n",
       "  <tbody>\n",
       "    <tr>\n",
       "      <th>0110</th>\n",
       "      <td>26.342792</td>\n",
       "      <td>22.0</td>\n",
       "      <td>0.00</td>\n",
       "      <td>95.0</td>\n",
       "    </tr>\n",
       "    <tr>\n",
       "      <th>0115</th>\n",
       "      <td>23.750000</td>\n",
       "      <td>30.0</td>\n",
       "      <td>0.25</td>\n",
       "      <td>50.0</td>\n",
       "    </tr>\n",
       "    <tr>\n",
       "      <th>0130</th>\n",
       "      <td>9.500000</td>\n",
       "      <td>7.0</td>\n",
       "      <td>4.00</td>\n",
       "      <td>20.0</td>\n",
       "    </tr>\n",
       "    <tr>\n",
       "      <th>0141</th>\n",
       "      <td>3.797039</td>\n",
       "      <td>3.0</td>\n",
       "      <td>0.00</td>\n",
       "      <td>20.0</td>\n",
       "    </tr>\n",
       "    <tr>\n",
       "      <th>0142</th>\n",
       "      <td>3.797039</td>\n",
       "      <td>3.0</td>\n",
       "      <td>0.00</td>\n",
       "      <td>20.0</td>\n",
       "    </tr>\n",
       "  </tbody>\n",
       "</table>\n",
       "</div>"
      ],
      "text/plain": [
       "           mean  median   min   max\n",
       "iucr                               \n",
       "0110  26.342792    22.0  0.00  95.0\n",
       "0115  23.750000    30.0  0.25  50.0\n",
       "0130   9.500000     7.0  4.00  20.0\n",
       "0141   3.797039     3.0  0.00  20.0\n",
       "0142   3.797039     3.0  0.00  20.0"
      ]
     },
     "execution_count": 42,
     "metadata": {},
     "output_type": "execute_result"
    }
   ],
   "source": [
    "parsed_convictions_minsent.head()"
   ]
  },
  {
   "cell_type": "code",
   "execution_count": 43,
   "metadata": {},
   "outputs": [
    {
     "data": {
      "text/html": [
       "<div>\n",
       "<style>\n",
       "    .dataframe thead tr:only-child th {\n",
       "        text-align: right;\n",
       "    }\n",
       "\n",
       "    .dataframe thead th {\n",
       "        text-align: left;\n",
       "    }\n",
       "\n",
       "    .dataframe tbody tr th {\n",
       "        vertical-align: top;\n",
       "    }\n",
       "</style>\n",
       "<table border=\"1\" class=\"dataframe\">\n",
       "  <thead>\n",
       "    <tr style=\"text-align: right;\">\n",
       "      <th></th>\n",
       "      <th>mean</th>\n",
       "      <th>median</th>\n",
       "      <th>min</th>\n",
       "      <th>max</th>\n",
       "    </tr>\n",
       "    <tr>\n",
       "      <th>iucr</th>\n",
       "      <th></th>\n",
       "      <th></th>\n",
       "      <th></th>\n",
       "      <th></th>\n",
       "    </tr>\n",
       "  </thead>\n",
       "  <tbody>\n",
       "    <tr>\n",
       "      <th>0110</th>\n",
       "      <td>26.342792</td>\n",
       "      <td>22.0</td>\n",
       "      <td>0.00</td>\n",
       "      <td>95.0</td>\n",
       "    </tr>\n",
       "    <tr>\n",
       "      <th>0115</th>\n",
       "      <td>23.750000</td>\n",
       "      <td>30.0</td>\n",
       "      <td>0.25</td>\n",
       "      <td>50.0</td>\n",
       "    </tr>\n",
       "    <tr>\n",
       "      <th>0130</th>\n",
       "      <td>9.500000</td>\n",
       "      <td>7.0</td>\n",
       "      <td>4.00</td>\n",
       "      <td>20.0</td>\n",
       "    </tr>\n",
       "    <tr>\n",
       "      <th>0141</th>\n",
       "      <td>3.797039</td>\n",
       "      <td>3.0</td>\n",
       "      <td>0.00</td>\n",
       "      <td>20.0</td>\n",
       "    </tr>\n",
       "    <tr>\n",
       "      <th>0142</th>\n",
       "      <td>3.797039</td>\n",
       "      <td>3.0</td>\n",
       "      <td>0.00</td>\n",
       "      <td>20.0</td>\n",
       "    </tr>\n",
       "  </tbody>\n",
       "</table>\n",
       "</div>"
      ],
      "text/plain": [
       "           mean  median   min   max\n",
       "iucr                               \n",
       "0110  26.342792    22.0  0.00  95.0\n",
       "0115  23.750000    30.0  0.25  50.0\n",
       "0130   9.500000     7.0  4.00  20.0\n",
       "0141   3.797039     3.0  0.00  20.0\n",
       "0142   3.797039     3.0  0.00  20.0"
      ]
     },
     "execution_count": 43,
     "metadata": {},
     "output_type": "execute_result"
    }
   ],
   "source": [
    "parsed_convictions_minsent.head()"
   ]
  },
  {
   "cell_type": "code",
   "execution_count": 44,
   "metadata": {
    "collapsed": true
   },
   "outputs": [],
   "source": [
    "parsed_convictions_minsent.to_csv('./data/parsed_convictions_minsent.csv')"
   ]
  },
  {
   "cell_type": "markdown",
   "metadata": {},
   "source": [
    "# Sandbox"
   ]
  },
  {
   "cell_type": "markdown",
   "metadata": {},
   "source": [
    "## ILCS to IUCR mapping\n",
    "\n",
    "Simply pulled in from the site above"
   ]
  },
  {
   "cell_type": "code",
   "execution_count": null,
   "metadata": {
    "collapsed": true
   },
   "outputs": [],
   "source": [
    "ilcs_iucr_mapping_url = 'https://raw.githubusercontent.com/sc3/python-iucr/master/iucr/data/ilcs2iucr.csv'"
   ]
  },
  {
   "cell_type": "code",
   "execution_count": null,
   "metadata": {
    "collapsed": true
   },
   "outputs": [],
   "source": [
    "ilcs_iucr_mapping = pd.read_csv(io.StringIO(requests.get(ilcs_iucr_mapping_url).content.decode('utf-8')))\\\n",
    "    .rename(columns = {'code' : 'iucr', 'ilcs_reference' : 'ilcs'})[['iucr', 'ilcs', 'offense']]"
   ]
  },
  {
   "cell_type": "code",
   "execution_count": null,
   "metadata": {
    "collapsed": true
   },
   "outputs": [],
   "source": [
    "ilcs_iucr_mapping['ilcs'] = ilcs_iucr_mapping['ilcs'].str.lower()"
   ]
  },
  {
   "cell_type": "code",
   "execution_count": null,
   "metadata": {
    "collapsed": true
   },
   "outputs": [],
   "source": [
    "ilcs_iucr_mapping.head()"
   ]
  },
  {
   "cell_type": "markdown",
   "metadata": {},
   "source": [
    "## Crime severity according to ILCS codes\n",
    "\n",
    "The crime data is not laid out in a clean table, and also contains many conditionals such as first offense, second offense, whether or not an arrest involved firearm discharge, etc. Much of this type of information is not available to us in the chicago data portal dataset. For the sake of this analysis, we will consider only the first offense punishment."
   ]
  },
  {
   "cell_type": "code",
   "execution_count": null,
   "metadata": {
    "collapsed": true
   },
   "outputs": [],
   "source": [
    "punishment_url_IL_2000 = 'http://www.crimeandpunishment.net/IL/chart.html'"
   ]
  },
  {
   "cell_type": "code",
   "execution_count": null,
   "metadata": {
    "collapsed": true
   },
   "outputs": [],
   "source": [
    "# Drop the first few rows of the table that contain conditional info\n",
    "raw_punishment_table = pd.read_html(punishment_url_IL_2000)[0].loc[8:]"
   ]
  },
  {
   "cell_type": "code",
   "execution_count": null,
   "metadata": {
    "collapsed": true
   },
   "outputs": [],
   "source": [
    "raw_punishment_table = raw_punishment_table.rename(columns = {0:'crime', 1:'primary_penalty', 2:'secondary_penalty'})"
   ]
  },
  {
   "cell_type": "code",
   "execution_count": null,
   "metadata": {
    "collapsed": true
   },
   "outputs": [],
   "source": [
    "raw_punishment_table.head(10)"
   ]
  },
  {
   "cell_type": "code",
   "execution_count": null,
   "metadata": {
    "collapsed": true
   },
   "outputs": [],
   "source": [
    "raw_punishment_valid_rows = raw_punishment_table[\n",
    "    raw_punishment_table['crime'].str.contains(' ILCS ') & ~raw_punishment_table['primary_penalty'].isnull()\n",
    "].reset_index(drop = True)"
   ]
  },
  {
   "cell_type": "code",
   "execution_count": null,
   "metadata": {
    "collapsed": true
   },
   "outputs": [],
   "source": [
    "raw_punishment_valid_rows.head(10)"
   ]
  },
  {
   "cell_type": "code",
   "execution_count": null,
   "metadata": {
    "collapsed": true
   },
   "outputs": [],
   "source": [
    "def parse_ilcs_code(s):\n",
    "    words = s.split()\n",
    "    ilcs_idx = words.index('ILCS')\n",
    "    return '-'.join([words[ilcs_idx-1], words[ilcs_idx+1]]).lower()"
   ]
  },
  {
   "cell_type": "markdown",
   "metadata": {},
   "source": [
    "Because some ILCS pop up in many rows, take the first row for each ILCS. This occurs when the table is formatted in such a way that second, third, ... or variations of a crime show up in multiple rows. We don't want these because we lack conditional information with crimes."
   ]
  },
  {
   "cell_type": "code",
   "execution_count": null,
   "metadata": {
    "collapsed": true
   },
   "outputs": [],
   "source": [
    "raw_punishement_with_ilcs_parsed = raw_punishment_valid_rows.copy()\n",
    "raw_punishement_with_ilcs_parsed['ilcs'] = raw_punishement_with_ilcs_parsed['crime'].map(parse_ilcs_code)\n",
    "raw_punishement_with_ilcs_parsed = raw_punishement_with_ilcs_parsed\\\n",
    "    .sort_values('ilcs')\\\n",
    "    .drop_duplicates(subset = ['ilcs'])\\\n",
    "    .sort_index()\\\n",
    "    .reset_index(drop = True)"
   ]
  },
  {
   "cell_type": "code",
   "execution_count": null,
   "metadata": {
    "collapsed": true
   },
   "outputs": [],
   "source": [
    "raw_punishement_with_ilcs_parsed.head(10)"
   ]
  },
  {
   "cell_type": "markdown",
   "metadata": {},
   "source": [
    "### Rules for discerning punishment ranges\n",
    "\n",
    "1. Fines are prefixed with \\$, other numbers are sentencing terms\n",
    "2. If a row has two fines, then we know the range. If it contains one fine, then we assume the other is 0 (the \"up to\" rule). Likewise for jail sentences."
   ]
  },
  {
   "cell_type": "code",
   "execution_count": null,
   "metadata": {
    "collapsed": true
   },
   "outputs": [],
   "source": [
    "def parse_terms(s):\n",
    "    words = s.split()\n",
    "    terms = [ int(w) for w in words if w.isdigit() ]\n",
    "    if len(terms) == 0:\n",
    "        return [0, 0]\n",
    "    elif len(terms) == 1:\n",
    "        return [0, terms[0]]\n",
    "    elif len(terms) == 2:\n",
    "        return terms\n",
    "    else:\n",
    "        print(\"encountered 3 numbers when looking for terms, taking first 2: \", s)\n",
    "        return terms[:2]\n",
    "    \n",
    "def parse_fines(s):\n",
    "    words = s.split()\n",
    "    fines = [ int(w.replace(',', '').replace('$', '')) for w in words\\\n",
    "                if '$' in w and w.replace(',', '').replace('$', '').isdigit()]\n",
    "    if len(fines) == 0:\n",
    "        return [0, 0]\n",
    "    elif len(fines) == 1:\n",
    "        return [0, fines[0]]\n",
    "    elif len(fines) == 2:\n",
    "        return fines\n",
    "    else:\n",
    "        print(\"encountered 3 numbers when looking for fines, taking first 2: \", s)\n",
    "        fines[:2]"
   ]
  },
  {
   "cell_type": "code",
   "execution_count": null,
   "metadata": {
    "collapsed": true
   },
   "outputs": [],
   "source": [
    "severity = raw_punishement_with_ilcs_parsed[['ilcs']].copy()"
   ]
  },
  {
   "cell_type": "code",
   "execution_count": null,
   "metadata": {
    "collapsed": true
   },
   "outputs": [],
   "source": [
    "severity['min_term'], severity['max_term'] = \\\n",
    "    zip(*raw_punishement_with_ilcs_parsed['primary_penalty'].map(parse_terms))"
   ]
  },
  {
   "cell_type": "code",
   "execution_count": null,
   "metadata": {
    "collapsed": true
   },
   "outputs": [],
   "source": [
    "severity['min_fine'], severity['max_fine'] = \\\n",
    "    zip(*raw_punishement_with_ilcs_parsed['primary_penalty'].map(parse_fines))"
   ]
  },
  {
   "cell_type": "code",
   "execution_count": null,
   "metadata": {
    "collapsed": true
   },
   "outputs": [],
   "source": [
    "severity.head(10)"
   ]
  },
  {
   "cell_type": "code",
   "execution_count": null,
   "metadata": {
    "collapsed": true
   },
   "outputs": [],
   "source": [
    "severity_with_iucr = severity.set_index('ilcs')\\\n",
    "    .join(ilcs_iucr_mapping.set_index('ilcs'), how = 'left')\\\n",
    "    .reset_index()\n",
    "severity_with_iucr = severity_with_iucr[~severity_with_iucr['iucr'].isnull()]\n",
    "severity_with_iucr['iucr'] = severity_with_iucr['iucr'].map(int)\n",
    "severity_with_iucr = severity_with_iucr.set_index('iucr')"
   ]
  },
  {
   "cell_type": "markdown",
   "metadata": {},
   "source": [
    "## Crime IUCR coverage\n",
    "\n",
    "Given these penalties, what coverage do we have? For codes that we don't cover, are we missing a significant portion of crimes? We will look at total crime coverage by those that we have mapped. We find that by count, this gives us roughly 2/3 coverage of crimes. Not fantastic."
   ]
  },
  {
   "cell_type": "code",
   "execution_count": null,
   "metadata": {
    "collapsed": true
   },
   "outputs": [],
   "source": [
    "crimes = pd.read_csv('./data/cleaned_crimes.csv')[['iucr']]\n",
    "crimes['iucr_for_join'] = crimes['iucr'].map(lambda x: int(re.sub('\\D', '0', x)))"
   ]
  },
  {
   "cell_type": "code",
   "execution_count": null,
   "metadata": {
    "collapsed": true
   },
   "outputs": [],
   "source": [
    "iucr_counts = crimes.groupby('iucr_for_join').count().rename(columns = {'iucr' : 'count'})"
   ]
  },
  {
   "cell_type": "code",
   "execution_count": null,
   "metadata": {
    "collapsed": true
   },
   "outputs": [],
   "source": [
    "count_check = iucr_counts.join(severity_with_iucr, how = 'left')\n",
    "count_check['map_success'] = ~count_check['ilcs'].isnull()"
   ]
  },
  {
   "cell_type": "code",
   "execution_count": null,
   "metadata": {
    "collapsed": true
   },
   "outputs": [],
   "source": [
    "count_check[count_check['map_success']]['count'].sum() / count_check['count'].sum()"
   ]
  },
  {
   "cell_type": "markdown",
   "metadata": {},
   "source": [
    "Which crimes are we missing?"
   ]
  },
  {
   "cell_type": "code",
   "execution_count": null,
   "metadata": {
    "collapsed": true
   },
   "outputs": [],
   "source": [
    "count_check[~count_check['map_success']].sort_values('count', ascending = False).head(20)['count'].plot(kind = 'bar')\n",
    "\n",
    "plt.show()"
   ]
  },
  {
   "cell_type": "markdown",
   "metadata": {},
   "source": [
    "We can make a lot of progress by mapping these guys by hand. "
   ]
  },
  {
   "cell_type": "code",
   "execution_count": null,
   "metadata": {
    "collapsed": true
   },
   "outputs": [],
   "source": [
    "test_join = severity.set_index('ilcs').join(ilcs_iucr_mapping.set_index('ilcs'), how = 'left')"
   ]
  },
  {
   "cell_type": "code",
   "execution_count": null,
   "metadata": {
    "collapsed": true,
    "scrolled": true
   },
   "outputs": [],
   "source": [
    "test_join[~test_join['iucr'].isnull()]"
   ]
  },
  {
   "cell_type": "code",
   "execution_count": null,
   "metadata": {
    "collapsed": true
   },
   "outputs": [],
   "source": [
    "test_join[test_join['iucr'].isnull()]"
   ]
  },
  {
   "cell_type": "code",
   "execution_count": null,
   "metadata": {
    "collapsed": true
   },
   "outputs": [],
   "source": [
    "iucr_needed = pd.read_csv('./data/cleaned_crimes.csv')['iucr'].unique()\n",
    "iucr_needed = set(map(lambda x: int(re.sub('\\D', '0', x)), iucr_needed))"
   ]
  },
  {
   "cell_type": "code",
   "execution_count": null,
   "metadata": {
    "collapsed": true
   },
   "outputs": [],
   "source": [
    "iucr_found = test_join[~test_join['iucr'].isnull()]['iucr'].map(int)"
   ]
  },
  {
   "cell_type": "code",
   "execution_count": null,
   "metadata": {
    "collapsed": true
   },
   "outputs": [],
   "source": [
    "needed_but_not_mapped = [ code for code in iucr_needed if code in iucr_found ]"
   ]
  },
  {
   "cell_type": "code",
   "execution_count": null,
   "metadata": {
    "collapsed": true
   },
   "outputs": [],
   "source": [
    "len(iucr_needed)"
   ]
  },
  {
   "cell_type": "code",
   "execution_count": null,
   "metadata": {
    "collapsed": true
   },
   "outputs": [],
   "source": [
    "len(iucr_found)"
   ]
  },
  {
   "cell_type": "code",
   "execution_count": null,
   "metadata": {
    "collapsed": true
   },
   "outputs": [],
   "source": [
    "list(zip(sorted(iucr_needed)[-20:], sorted(iucr_found)[-20:]))"
   ]
  },
  {
   "cell_type": "code",
   "execution_count": null,
   "metadata": {
    "collapsed": true
   },
   "outputs": [],
   "source": []
  }
 ],
 "metadata": {
  "kernelspec": {
   "display_name": "Python 3",
   "language": "python",
   "name": "python3"
  },
  "language_info": {
   "codemirror_mode": {
    "name": "ipython",
    "version": 3
   },
   "file_extension": ".py",
   "mimetype": "text/x-python",
   "name": "python",
   "nbconvert_exporter": "python",
   "pygments_lexer": "ipython3",
   "version": "3.6.2"
  }
 },
 "nbformat": 4,
 "nbformat_minor": 2
}
